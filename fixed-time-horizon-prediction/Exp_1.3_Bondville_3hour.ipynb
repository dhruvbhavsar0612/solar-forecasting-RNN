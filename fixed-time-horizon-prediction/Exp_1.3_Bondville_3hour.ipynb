{
 "cells": [
  {
   "cell_type": "code",
   "execution_count": 1,
   "metadata": {},
   "outputs": [],
   "source": [
    "import numpy as np\n",
    "import pandas as pd\n",
    "import datetime\n",
    "import glob\n",
    "import os.path\n",
    "from pandas.compat import StringIO "
   ]
  },
  {
   "cell_type": "markdown",
   "metadata": {},
   "source": [
    "### NREL Bird Model implementation: for obtaining clear sky GHI"
   ]
  },
  {
   "cell_type": "code",
   "execution_count": 2,
   "metadata": {},
   "outputs": [],
   "source": [
    "import itertools\n",
    "import matplotlib.pyplot as plt\n",
    "import pandas as pd\n",
    "import seaborn as sns  "
   ]
  },
  {
   "cell_type": "code",
   "execution_count": 3,
   "metadata": {},
   "outputs": [],
   "source": [
    "%matplotlib inline\n",
    "sns.set_color_codes()"
   ]
  },
  {
   "cell_type": "code",
   "execution_count": 4,
   "metadata": {},
   "outputs": [],
   "source": [
    "import pvlib\n",
    "from pvlib import clearsky, atmosphere\n",
    "from pvlib.location import Location"
   ]
  },
  {
   "cell_type": "code",
   "execution_count": 5,
   "metadata": {},
   "outputs": [],
   "source": [
    "bvl = Location(40.1134,-88.3695, 'US/Central', 217.932, 'Bondville')"
   ]
  },
  {
   "cell_type": "code",
   "execution_count": 6,
   "metadata": {},
   "outputs": [],
   "source": [
    "times2009 = pd.DatetimeIndex(start='2009-01-01', end='2010-01-01', freq='1min',\n",
    "                        tz=bvl.tz)   # 12 months of 2009 - For testing\n",
    "times2010and2011 = pd.DatetimeIndex(start='2010-01-01', end='2012-01-01', freq='1min',\n",
    "                        tz=bvl.tz)   # 24 months of 2010 and 2011 - For training"
   ]
  },
  {
   "cell_type": "code",
   "execution_count": 7,
   "metadata": {},
   "outputs": [],
   "source": [
    "cs_2009 = bvl.get_clearsky(times2009) \n",
    "cs_2010and2011 = bvl.get_clearsky(times2010and2011) # ineichen with climatology table by default\n",
    "#cs_2011 = bvl.get_clearsky(times2011) "
   ]
  },
  {
   "cell_type": "code",
   "execution_count": 8,
   "metadata": {},
   "outputs": [],
   "source": [
    "cs_2009.drop(['dni','dhi'],axis=1, inplace=True) #updating the same dataframe by dropping two columns\n",
    "cs_2010and2011.drop(['dni','dhi'],axis=1, inplace=True) #updating the same dataframe by dropping two columns\n",
    "#cs_2011.drop(['dni','dhi'],axis=1, inplace=True) #updating the same dataframe by dropping two columns"
   ]
  },
  {
   "cell_type": "code",
   "execution_count": 9,
   "metadata": {},
   "outputs": [],
   "source": [
    "cs_2009.reset_index(inplace=True)\n",
    "cs_2010and2011.reset_index(inplace=True)\n",
    "#cs_2011.reset_index(inplace=True)"
   ]
  },
  {
   "cell_type": "code",
   "execution_count": 10,
   "metadata": {},
   "outputs": [],
   "source": [
    "cs_2009['index']=cs_2009['index'].apply(lambda x:x.to_datetime())\n",
    "cs_2009['year'] = cs_2009['index'].apply(lambda x:x.year)\n",
    "cs_2009['month'] = cs_2009['index'].apply(lambda x:x.month)\n",
    "cs_2009['day'] = cs_2009['index'].apply(lambda x:x.day)\n",
    "cs_2009['hour'] = cs_2009['index'].apply(lambda x:x.hour)\n",
    "cs_2009['min'] = cs_2009['index'].apply(lambda x:x.minute)"
   ]
  },
  {
   "cell_type": "code",
   "execution_count": 11,
   "metadata": {},
   "outputs": [],
   "source": [
    "cs_2010and2011['index']=cs_2010and2011['index'].apply(lambda x:x.to_datetime())\n",
    "cs_2010and2011['year'] = cs_2010and2011['index'].apply(lambda x:x.year)\n",
    "cs_2010and2011['month'] = cs_2010and2011['index'].apply(lambda x:x.month)\n",
    "cs_2010and2011['day'] = cs_2010and2011['index'].apply(lambda x:x.day)\n",
    "cs_2010and2011['hour'] = cs_2010and2011['index'].apply(lambda x:x.hour)\n",
    "cs_2010and2011['min'] = cs_2010and2011['index'].apply(lambda x:x.minute)"
   ]
  },
  {
   "cell_type": "code",
   "execution_count": 12,
   "metadata": {},
   "outputs": [
    {
     "name": "stdout",
     "output_type": "stream",
     "text": [
      "(525601, 7)\n",
      "(1051201, 7)\n"
     ]
    }
   ],
   "source": [
    "print(cs_2009.shape)\n",
    "print(cs_2010and2011.shape)\n",
    "#print(cs_2011.shape)"
   ]
  },
  {
   "cell_type": "code",
   "execution_count": 13,
   "metadata": {},
   "outputs": [],
   "source": [
    "cs_2009.drop(cs_2009.index[-1], inplace=True)\n",
    "cs_2010and2011.drop(cs_2010and2011.index[-1], inplace=True)\n",
    "#cs_2011.drop(cs_2011.index[-1], inplace=True)"
   ]
  },
  {
   "cell_type": "code",
   "execution_count": 14,
   "metadata": {},
   "outputs": [
    {
     "name": "stdout",
     "output_type": "stream",
     "text": [
      "(525600, 7)\n",
      "(1051200, 7)\n"
     ]
    }
   ],
   "source": [
    "print(cs_2009.shape)\n",
    "print(cs_2010and2011.shape)\n",
    "#print(cs_2011.shape)"
   ]
  },
  {
   "cell_type": "code",
   "execution_count": 15,
   "metadata": {},
   "outputs": [
    {
     "data": {
      "text/html": [
       "<div>\n",
       "<style scoped>\n",
       "    .dataframe tbody tr th:only-of-type {\n",
       "        vertical-align: middle;\n",
       "    }\n",
       "\n",
       "    .dataframe tbody tr th {\n",
       "        vertical-align: top;\n",
       "    }\n",
       "\n",
       "    .dataframe thead th {\n",
       "        text-align: right;\n",
       "    }\n",
       "</style>\n",
       "<table border=\"1\" class=\"dataframe\">\n",
       "  <thead>\n",
       "    <tr style=\"text-align: right;\">\n",
       "      <th></th>\n",
       "      <th>index</th>\n",
       "      <th>ghi</th>\n",
       "      <th>year</th>\n",
       "      <th>month</th>\n",
       "      <th>day</th>\n",
       "      <th>hour</th>\n",
       "      <th>min</th>\n",
       "    </tr>\n",
       "  </thead>\n",
       "  <tbody>\n",
       "    <tr>\n",
       "      <th>0</th>\n",
       "      <td>2010-01-01 00:00:00-06:00</td>\n",
       "      <td>0.0</td>\n",
       "      <td>2010</td>\n",
       "      <td>1</td>\n",
       "      <td>1</td>\n",
       "      <td>0</td>\n",
       "      <td>0</td>\n",
       "    </tr>\n",
       "    <tr>\n",
       "      <th>1</th>\n",
       "      <td>2010-01-01 00:01:00-06:00</td>\n",
       "      <td>0.0</td>\n",
       "      <td>2010</td>\n",
       "      <td>1</td>\n",
       "      <td>1</td>\n",
       "      <td>0</td>\n",
       "      <td>1</td>\n",
       "    </tr>\n",
       "    <tr>\n",
       "      <th>2</th>\n",
       "      <td>2010-01-01 00:02:00-06:00</td>\n",
       "      <td>0.0</td>\n",
       "      <td>2010</td>\n",
       "      <td>1</td>\n",
       "      <td>1</td>\n",
       "      <td>0</td>\n",
       "      <td>2</td>\n",
       "    </tr>\n",
       "    <tr>\n",
       "      <th>3</th>\n",
       "      <td>2010-01-01 00:03:00-06:00</td>\n",
       "      <td>0.0</td>\n",
       "      <td>2010</td>\n",
       "      <td>1</td>\n",
       "      <td>1</td>\n",
       "      <td>0</td>\n",
       "      <td>3</td>\n",
       "    </tr>\n",
       "    <tr>\n",
       "      <th>4</th>\n",
       "      <td>2010-01-01 00:04:00-06:00</td>\n",
       "      <td>0.0</td>\n",
       "      <td>2010</td>\n",
       "      <td>1</td>\n",
       "      <td>1</td>\n",
       "      <td>0</td>\n",
       "      <td>4</td>\n",
       "    </tr>\n",
       "  </tbody>\n",
       "</table>\n",
       "</div>"
      ],
      "text/plain": [
       "                      index  ghi  year  month  day  hour  min\n",
       "0 2010-01-01 00:00:00-06:00  0.0  2010      1    1     0    0\n",
       "1 2010-01-01 00:01:00-06:00  0.0  2010      1    1     0    1\n",
       "2 2010-01-01 00:02:00-06:00  0.0  2010      1    1     0    2\n",
       "3 2010-01-01 00:03:00-06:00  0.0  2010      1    1     0    3\n",
       "4 2010-01-01 00:04:00-06:00  0.0  2010      1    1     0    4"
      ]
     },
     "execution_count": 15,
     "metadata": {},
     "output_type": "execute_result"
    }
   ],
   "source": [
    "cs_2010and2011.head()"
   ]
  },
  {
   "cell_type": "markdown",
   "metadata": {},
   "source": [
    "### Import files from each year in a separate dataframe"
   ]
  },
  {
   "cell_type": "markdown",
   "metadata": {
    "collapsed": true
   },
   "source": [
    "\n",
    "- year            integer\t year, i.e., 1995\n",
    "- jday            integer\t Julian day (1 through 365 [or 366])\n",
    "- month           integer\t number of the month (1-12)\n",
    "- day             integer\t day of the month(1-31)\n",
    "- hour            integer\t hour of the day (0-23)\n",
    "- min             integer\t minute of the hour (0-59)\n",
    "- dt              real\t decimal time (hour.decimalminutes, e.g., 23.5 = 2330)\n",
    "- zen             real\t solar zenith angle (degrees)\n",
    "- dw_solar        real\t downwelling global solar (Watts m^-2)\n",
    "- uw_solar        real\t upwelling global solar (Watts m^-2)\n",
    "- direct_n        real\t direct-normal solar (Watts m^-2)\n",
    "- diffuse         real\t downwelling diffuse solar (Watts m^-2)\n",
    "- dw_ir           real\t downwelling thermal infrared (Watts m^-2)\n",
    "- dw_casetemp     real\t downwelling IR case temp. (K)\n",
    "- dw_dometemp     real\t downwelling IR dome temp. (K)\n",
    "- uw_ir           real\t upwelling thermal infrared (Watts m^-2)\n",
    "- uw_casetemp     real\t upwelling IR case temp. (K)\n",
    "- uw_dometemp     real\t upwelling IR dome temp. (K)\n",
    "- uvb             real\t global UVB (milliWatts m^-2)\n",
    "- par             real\t photosynthetically active radiation (Watts m^-2)\n",
    "- netsolar        real\t net solar (dw_solar - uw_solar) (Watts m^-2)\n",
    "- netir           real\t net infrared (dw_ir - uw_ir) (Watts m^-2)\n",
    "- totalnet        real\t net radiation (netsolar+netir) (Watts m^-2)\n",
    "- temp            real\t 10-meter air temperature (?C)\n",
    "- rh              real\t relative humidity (%)\n",
    "- windspd         real\t wind speed (ms^-1)\n",
    "- winddir         real\t wind direction (degrees, clockwise from north)\n",
    "- pressure        real\t station pressure (mb)\n"
   ]
  },
  {
   "cell_type": "code",
   "execution_count": 16,
   "metadata": {},
   "outputs": [],
   "source": [
    "cols = ['year', 'jday', 'month', 'day','hour','min','dt','zen','dw_solar','dw_solar_QC','uw_solar',\n",
    "       'uw_solar_QC', 'direct_n','direct_n_QC','diffuse', 'diffuse_QC', 'dw_ir', 'dw_ir_QC', 'dw_casetemp',\n",
    "       'dw_casetemp_QC', 'dw_dometemp','dw_dometemp_QC','uw_ir', 'uw_ir_QC', 'uw_casetemp','uw_casetemp_QC',\n",
    "       'uw_dometemp','uw_dometemp_QC','uvb','uvb_QC','par','par_QC','netsolar','netsolar_QC','netir','netir_QC',\n",
    "       'totalnet','totalnet_QC','temp','temp_QC','rh','rh_QC','windspd','windspd_QC','winddir','winddir_QC',\n",
    "       'pressure','pressure_QC']"
   ]
  },
  {
   "cell_type": "code",
   "execution_count": 17,
   "metadata": {},
   "outputs": [
    {
     "data": {
      "text/plain": [
       "(1050402, 48)"
      ]
     },
     "execution_count": 17,
     "metadata": {},
     "output_type": "execute_result"
    }
   ],
   "source": [
    "path = r'.\\\\data\\\\Bondville\\\\Exp_1_train'\n",
    "all_files = glob.glob(path + \"/*.dat\")\n",
    "all_files.sort()\n",
    "\n",
    "df_big_train = pd.concat([pd.read_csv(f, skipinitialspace = True, quotechar = '\"',skiprows=(2),delimiter=' ', \n",
    "                 index_col=False,header=None, names=cols) for f in all_files],ignore_index=True)\n",
    "df_big_train.shape"
   ]
  },
  {
   "cell_type": "code",
   "execution_count": 18,
   "metadata": {},
   "outputs": [
    {
     "data": {
      "text/plain": [
       "(524936, 48)"
      ]
     },
     "execution_count": 18,
     "metadata": {},
     "output_type": "execute_result"
    }
   ],
   "source": [
    "path = r'.\\\\data\\\\Bondville\\\\Exp_1_test'\n",
    "all_files = glob.glob(path + \"/*.dat\")\n",
    "all_files.sort()\n",
    "\n",
    "df_big_test = pd.concat((pd.read_csv(f, skipinitialspace = True, quotechar = '\"',skiprows=(2),delimiter=' ', \n",
    "                 index_col=False,header=None, names=cols) for f in all_files),ignore_index=True)\n",
    "df_big_test.shape"
   ]
  },
  {
   "cell_type": "code",
   "execution_count": 19,
   "metadata": {},
   "outputs": [
    {
     "data": {
      "text/plain": [
       "(19, 48)"
      ]
     },
     "execution_count": 19,
     "metadata": {},
     "output_type": "execute_result"
    }
   ],
   "source": [
    "df_big_test[df_big_test['dw_solar']==-9999.9].shape"
   ]
  },
  {
   "cell_type": "markdown",
   "metadata": {},
   "source": [
    "### Merging Clear Sky GHI And the big dataframe"
   ]
  },
  {
   "cell_type": "code",
   "execution_count": 20,
   "metadata": {},
   "outputs": [
    {
     "data": {
      "text/plain": [
       "(1050402, 50)"
      ]
     },
     "execution_count": 20,
     "metadata": {},
     "output_type": "execute_result"
    }
   ],
   "source": [
    "df_train = pd.merge(df_big_train, cs_2010and2011, on=['year','month','day','hour','min'])\n",
    "df_train.shape"
   ]
  },
  {
   "cell_type": "code",
   "execution_count": 21,
   "metadata": {},
   "outputs": [
    {
     "data": {
      "text/plain": [
       "(524936, 50)"
      ]
     },
     "execution_count": 21,
     "metadata": {},
     "output_type": "execute_result"
    }
   ],
   "source": [
    "df_test = pd.merge(df_big_test, cs_2009, on=['year','month','day','hour','min'])\n",
    "df_test.shape"
   ]
  },
  {
   "cell_type": "code",
   "execution_count": 22,
   "metadata": {},
   "outputs": [],
   "source": [
    "df_train.drop(['index'],axis=1, inplace=True) #updating the same dataframe by dropping the index columns from clear sky model\n",
    "df_test.drop(['index'], axis=1, inplace=True)"
   ]
  },
  {
   "cell_type": "code",
   "execution_count": 23,
   "metadata": {},
   "outputs": [
    {
     "data": {
      "text/plain": [
       "(1050402, 49)"
      ]
     },
     "execution_count": 23,
     "metadata": {},
     "output_type": "execute_result"
    }
   ],
   "source": [
    "df_train.shape"
   ]
  },
  {
   "cell_type": "markdown",
   "metadata": {},
   "source": [
    "### Managing missing values"
   ]
  },
  {
   "cell_type": "code",
   "execution_count": 24,
   "metadata": {},
   "outputs": [],
   "source": [
    "# Resetting index\n",
    "df_train.reset_index(drop=True, inplace=True)\n",
    "df_test.reset_index(drop=True, inplace=True)"
   ]
  },
  {
   "cell_type": "code",
   "execution_count": 25,
   "metadata": {},
   "outputs": [],
   "source": [
    "# Dropping rows with two or more -9999.9 values in columns"
   ]
  },
  {
   "cell_type": "code",
   "execution_count": 26,
   "metadata": {},
   "outputs": [
    {
     "data": {
      "text/plain": [
       "(1046527, 49)"
      ]
     },
     "execution_count": 26,
     "metadata": {},
     "output_type": "execute_result"
    }
   ],
   "source": [
    "# Step1: Get indices of all rows with 2 or more -999\n",
    "missing_data_indices = np.where((df_train <=-9999.9).apply(sum, axis=1)>=2)[0]\n",
    "# Step2: Drop those indices\n",
    "df_train.drop(missing_data_indices, axis=0, inplace=True)\n",
    "# Checking that the rows are dropped\n",
    "df_train.shape"
   ]
  },
  {
   "cell_type": "code",
   "execution_count": 27,
   "metadata": {},
   "outputs": [
    {
     "data": {
      "text/plain": [
       "(516826, 49)"
      ]
     },
     "execution_count": 27,
     "metadata": {},
     "output_type": "execute_result"
    }
   ],
   "source": [
    "missing_data_indices_test = np.where((df_test <= -9999.9).apply(sum, axis=1)>=2)[0]\n",
    "df_test.drop(missing_data_indices_test, axis=0, inplace=True)\n",
    "df_test.shape"
   ]
  },
  {
   "cell_type": "code",
   "execution_count": 28,
   "metadata": {},
   "outputs": [],
   "source": [
    "# For the rows with only one cell as -9999.9, replacing this cell with the mean of the column"
   ]
  },
  {
   "cell_type": "markdown",
   "metadata": {},
   "source": [
    "#### First resetting index after dropping rows in the previous part of the code"
   ]
  },
  {
   "cell_type": "code",
   "execution_count": 29,
   "metadata": {},
   "outputs": [],
   "source": [
    "# 2nd time - Reseting Index\n",
    "df_train.reset_index(drop=True, inplace=True)\n",
    "df_test.reset_index(drop=True, inplace=True)"
   ]
  },
  {
   "cell_type": "code",
   "execution_count": 30,
   "metadata": {},
   "outputs": [],
   "source": [
    "one_miss_train_idx = np.where((df_train <=-9999.9).apply(sum, axis=1)==1)[0]"
   ]
  },
  {
   "cell_type": "code",
   "execution_count": 31,
   "metadata": {},
   "outputs": [
    {
     "data": {
      "text/plain": [
       "24739"
      ]
     },
     "execution_count": 31,
     "metadata": {},
     "output_type": "execute_result"
    }
   ],
   "source": [
    "len(one_miss_train_idx)"
   ]
  },
  {
   "cell_type": "code",
   "execution_count": 32,
   "metadata": {},
   "outputs": [
    {
     "data": {
      "text/plain": [
       "(1046527, 49)"
      ]
     },
     "execution_count": 32,
     "metadata": {},
     "output_type": "execute_result"
    }
   ],
   "source": [
    "df_train.shape"
   ]
  },
  {
   "cell_type": "code",
   "execution_count": 33,
   "metadata": {},
   "outputs": [
    {
     "name": "stderr",
     "output_type": "stream",
     "text": [
      "C:\\Users\\s269596\\AppData\\Local\\Continuum\\Anaconda3\\lib\\site-packages\\pandas\\core\\indexing.py:194: SettingWithCopyWarning: \n",
      "A value is trying to be set on a copy of a slice from a DataFrame\n",
      "\n",
      "See the caveats in the documentation: http://pandas.pydata.org/pandas-docs/stable/indexing.html#indexing-view-versus-copy\n",
      "  self._setitem_with_indexer(indexer, value)\n"
     ]
    }
   ],
   "source": [
    "col_names = df_train.columns\n",
    "from collections import defaultdict\n",
    "stats = defaultdict(int)\n",
    "total_single_missing_values = 0\n",
    "for name in col_names:\n",
    "    col_mean = df_train[~(df_train[name] == -9999.9)][name].mean()\n",
    "    missing_indices = np.where((df_train[name] == -9999.9))\n",
    "    stats[name] = len(missing_indices[0])\n",
    "    df_train[name].loc[missing_indices] = col_mean\n",
    "    total_single_missing_values += sum(df_train[name] == -9999.9)\n",
    "    "
   ]
  },
  {
   "cell_type": "code",
   "execution_count": 34,
   "metadata": {},
   "outputs": [],
   "source": [
    "df_col_min = df_train.apply(min, axis=0)\n",
    "df_col_max = df_train.apply(max, axis =0)\n",
    "#print(df_col_min, df_col_max)"
   ]
  },
  {
   "cell_type": "code",
   "execution_count": 35,
   "metadata": {},
   "outputs": [],
   "source": [
    "train = np.where((df_train <=-9999.9).apply(sum, axis=1)==1)[0]"
   ]
  },
  {
   "cell_type": "code",
   "execution_count": 36,
   "metadata": {},
   "outputs": [
    {
     "data": {
      "text/plain": [
       "0"
      ]
     },
     "execution_count": 36,
     "metadata": {},
     "output_type": "execute_result"
    }
   ],
   "source": [
    "len(train)"
   ]
  },
  {
   "cell_type": "code",
   "execution_count": 37,
   "metadata": {},
   "outputs": [],
   "source": [
    "# doing the same thing on test dataset"
   ]
  },
  {
   "cell_type": "code",
   "execution_count": 38,
   "metadata": {},
   "outputs": [
    {
     "data": {
      "text/plain": [
       "15271"
      ]
     },
     "execution_count": 38,
     "metadata": {},
     "output_type": "execute_result"
    }
   ],
   "source": [
    "one_miss_test_idx = np.where((df_test <=-9999.9).apply(sum, axis=1)==1)[0]\n",
    "len(one_miss_test_idx)"
   ]
  },
  {
   "cell_type": "code",
   "execution_count": 39,
   "metadata": {},
   "outputs": [
    {
     "name": "stderr",
     "output_type": "stream",
     "text": [
      "C:\\Users\\s269596\\AppData\\Local\\Continuum\\Anaconda3\\lib\\site-packages\\pandas\\core\\indexing.py:194: SettingWithCopyWarning: \n",
      "A value is trying to be set on a copy of a slice from a DataFrame\n",
      "\n",
      "See the caveats in the documentation: http://pandas.pydata.org/pandas-docs/stable/indexing.html#indexing-view-versus-copy\n",
      "  self._setitem_with_indexer(indexer, value)\n"
     ]
    }
   ],
   "source": [
    "col_names_test = df_test.columns\n",
    "from collections import defaultdict\n",
    "stats_test = defaultdict(int)\n",
    "total_single_missing_values_test = 0\n",
    "for name in col_names_test:\n",
    "    col_mean = df_test[~(df_test[name] == -9999.9)][name].mean()\n",
    "    missing_indices = np.where((df_test[name] == -9999.9))\n",
    "    stats_test[name] = len(missing_indices[0])\n",
    "    df_test[name].loc[missing_indices] = col_mean\n",
    "    total_single_missing_values_test += sum(df_test[name] == -9999.9)\n",
    "    "
   ]
  },
  {
   "cell_type": "code",
   "execution_count": 40,
   "metadata": {},
   "outputs": [],
   "source": [
    "test = np.where((df_test <=-9999.9).apply(sum, axis=1)==1)[0]"
   ]
  },
  {
   "cell_type": "code",
   "execution_count": 41,
   "metadata": {},
   "outputs": [
    {
     "data": {
      "text/plain": [
       "0"
      ]
     },
     "execution_count": 41,
     "metadata": {},
     "output_type": "execute_result"
    }
   ],
   "source": [
    "len(test)"
   ]
  },
  {
   "cell_type": "code",
   "execution_count": 42,
   "metadata": {},
   "outputs": [
    {
     "data": {
      "text/plain": [
       "(1046527, 49)"
      ]
     },
     "execution_count": 42,
     "metadata": {},
     "output_type": "execute_result"
    }
   ],
   "source": [
    "df_train.shape"
   ]
  },
  {
   "cell_type": "code",
   "execution_count": 43,
   "metadata": {},
   "outputs": [
    {
     "data": {
      "text/plain": [
       "(516826, 49)"
      ]
     },
     "execution_count": 43,
     "metadata": {},
     "output_type": "execute_result"
    }
   ],
   "source": [
    "df_test.shape"
   ]
  },
  {
   "cell_type": "markdown",
   "metadata": {},
   "source": [
    "### Exploratory Data Analysis"
   ]
  },
  {
   "cell_type": "code",
   "execution_count": 44,
   "metadata": {},
   "outputs": [],
   "source": [
    "dw_solar_everyday = df_test.groupby(['jday'])['dw_solar'].mean()\n",
    "ghi_everyday = df_test.groupby(['jday'])['ghi'].mean()\n",
    "j_day = df_test['jday'].unique()"
   ]
  },
  {
   "cell_type": "code",
   "execution_count": 45,
   "metadata": {},
   "outputs": [
    {
     "data": {
      "image/png": "[encoded data removed]",
      "text/plain": [
       "<Figure size 432x288 with 1 Axes>"
      ]
     },
     "metadata": {},
     "output_type": "display_data"
    }
   ],
   "source": [
    "fig = plt.figure()\n",
    "\n",
    "axes1 = fig.add_axes([0.1,0.1,0.8,0.8])\n",
    "#axes2 = fig.add_axes([0.1,0.1,0.8,0.8])\n",
    "\n",
    "axes1.scatter(j_day,dw_solar_everyday,label='Observed dw_solar',color='red')\n",
    "axes1.scatter(j_day, ghi_everyday, label='Clear Sky GHI',color='green')\n",
    "\n",
    "axes1.set_xlabel('Days')\n",
    "axes1.set_ylabel('Solar Irradiance (Watts /m^2)')\n",
    "axes1.set_title('Solar Irradiance - Test Year 2009')\n",
    "axes1.legend(loc='best')\n",
    "\n",
    "fig.savefig('Figure2a.jpg', bbox_inches = 'tight')"
   ]
  },
  {
   "cell_type": "code",
   "execution_count": 46,
   "metadata": {},
   "outputs": [
    {
     "name": "stderr",
     "output_type": "stream",
     "text": [
      "C:\\Users\\s269596\\AppData\\Local\\Continuum\\Anaconda3\\lib\\site-packages\\matplotlib\\axes\\_axes.py:6462: UserWarning: The 'normed' kwarg is deprecated, and has been replaced by the 'density' kwarg.\n",
      "  warnings.warn(\"The 'normed' kwarg is deprecated, and has been \"\n"
     ]
    },
    {
     "data": {
      "image/png": "[encoded data removed]",
      "text/plain": [
       "<Figure size 432x432 with 3 Axes>"
      ]
     },
     "metadata": {},
     "output_type": "display_data"
    }
   ],
   "source": [
    "sns.jointplot(x=dw_solar_everyday,y=ghi_everyday,kind='reg')\n",
    "#plt.title('observed dw_solar vs clear sky ghi')\n",
    "plt.xlabel('Observed global downwelling solar (Watts/m^2)')\n",
    "plt.ylabel('Clear Sky GHI (Watts/m^2)')\n",
    "plt.savefig('Figure3a.png', bbox_inches='tight')"
   ]
  },
  {
   "cell_type": "markdown",
   "metadata": {},
   "source": [
    "### making the Kt (clear sky index at time t) column by first removing rows with ghi==0"
   ]
  },
  {
   "cell_type": "code",
   "execution_count": 47,
   "metadata": {},
   "outputs": [],
   "source": [
    "df_train = df_train[df_train['ghi']!=0]\n",
    "df_test = df_test[df_test['ghi']!=0]\n",
    "df_train['Kt'] = df_train['dw_solar']/df_train['ghi']\n",
    "df_test['Kt'] = df_test['dw_solar']/df_test['ghi']"
   ]
  },
  {
   "cell_type": "code",
   "execution_count": 48,
   "metadata": {},
   "outputs": [],
   "source": [
    "df_train.reset_index(inplace=True)\n",
    "df_test.reset_index(inplace=True)"
   ]
  },
  {
   "cell_type": "code",
   "execution_count": 49,
   "metadata": {},
   "outputs": [
    {
     "name": "stdout",
     "output_type": "stream",
     "text": [
      "test Kt max: 44687.07900300023\n",
      "test Kt min: -869.1104944675631\n",
      "test Kt mean: 2.7894944379552764\n",
      "\n",
      "\n",
      "train Kt max: 13966.236460411343\n",
      "train Kt min: -1176.7698469370364\n",
      "train Kt mean: 2.447186234312092\n"
     ]
    }
   ],
   "source": [
    "print(\"test Kt max: \"+str(df_test['Kt'].max()))\n",
    "print(\"test Kt min: \"+str(df_test['Kt'].min()))\n",
    "print(\"test Kt mean: \"+str(df_test['Kt'].mean()))\n",
    "print(\"\\n\")\n",
    "print(\"train Kt max: \"+str(df_train['Kt'].max()))\n",
    "print(\"train Kt min: \"+str(df_train['Kt'].min()))\n",
    "print(\"train Kt mean: \"+str(df_train['Kt'].mean()))"
   ]
  },
  {
   "cell_type": "code",
   "execution_count": 50,
   "metadata": {},
   "outputs": [
    {
     "data": {
      "text/plain": [
       "[<matplotlib.lines.Line2D at 0xa1e2d68>]"
      ]
     },
     "execution_count": 50,
     "metadata": {},
     "output_type": "execute_result"
    },
    {
     "data": {
      "image/png": "[encoded data removed]",
      "text/plain": [
       "<Figure size 432x288 with 1 Axes>"
      ]
     },
     "metadata": {},
     "output_type": "display_data"
    }
   ],
   "source": [
    "plt.plot(df_train['Kt'])"
   ]
  },
  {
   "cell_type": "code",
   "execution_count": 51,
   "metadata": {},
   "outputs": [
    {
     "data": {
      "text/plain": [
       "[<matplotlib.lines.Line2D at 0x1053ce10>]"
      ]
     },
     "execution_count": 51,
     "metadata": {},
     "output_type": "execute_result"
    },
    {
     "data": {
      "image/png": "[encoded data removed]",
      "text/plain": [
       "<Figure size 432x288 with 1 Axes>"
      ]
     },
     "metadata": {},
     "output_type": "display_data"
    }
   ],
   "source": [
    "plt.plot(df_test['Kt'])"
   ]
  },
  {
   "cell_type": "code",
   "execution_count": 52,
   "metadata": {},
   "outputs": [],
   "source": [
    "df_train= df_train[df_train['Kt']< 5000]\n",
    "df_train= df_train[df_train['Kt']> -1000]\n",
    "df_test= df_test[df_test['Kt']< 5000]\n",
    "df_test= df_test[df_test['Kt']> -1000]"
   ]
  },
  {
   "cell_type": "markdown",
   "metadata": {},
   "source": [
    "#### Group the data (train dataframe)"
   ]
  },
  {
   "cell_type": "code",
   "execution_count": 53,
   "metadata": {},
   "outputs": [],
   "source": [
    "zen = df_train.groupby(['year','month','day','hour'])['zen'].mean()\n",
    "dw_solar = df_train.groupby(['year','month','day','hour'])['dw_solar'].mean()\n",
    "uw_solar = df_train.groupby(['year','month','day','hour'])['uw_solar'].mean()\n",
    "direct_n = df_train.groupby(['year','month','day','hour'])['direct_n'].mean()\n",
    "diffuse = df_train.groupby(['year','month','day','hour'])['diffuse'].mean()\n",
    "dw_ir = df_train.groupby(['year','month','day','hour'])['dw_ir'].mean()\n",
    "dw_casetemp = df_train.groupby(['year','month','day','hour'])['dw_casetemp'].mean()\n",
    "dw_dometemp = df_train.groupby(['year','month','day','hour'])['dw_dometemp'].mean()\n",
    "uw_ir = df_train.groupby(['year','month','day','hour'])['uw_ir'].mean()\n",
    "uw_casetemp = df_train.groupby(['year','month','day','hour'])['uw_casetemp'].mean()\n",
    "uw_dometemp = df_train.groupby(['year','month','day','hour'])['uw_dometemp'].mean()\n",
    "uvb = df_train.groupby(['year','month','day','hour'])['uvb'].mean()\n",
    "par = df_train.groupby(['year','month','day','hour'])['par'].mean()\n",
    "netsolar = df_train.groupby(['year','month','day','hour'])['netsolar'].mean()\n",
    "netir = df_train.groupby(['year','month','day','hour'])['netir'].mean()\n",
    "totalnet = df_train.groupby(['year','month','day','hour'])['totalnet'].mean()\n",
    "temp = df_train.groupby(['year','month','day','hour'])['temp'].mean()\n",
    "rh = df_train.groupby(['year','month','day','hour'])['rh'].mean()\n",
    "windspd = df_train.groupby(['year','month','day','hour'])['windspd'].mean()\n",
    "winddir = df_train.groupby(['year','month','day','hour'])['winddir'].mean()\n",
    "pressure = df_train.groupby(['year','month','day','hour'])['pressure'].mean()\n",
    "ghi = df_train.groupby(['year','month','day','hour'])['ghi'].mean()\n",
    "Kt = df_train.groupby(['year','month','day','hour'])['Kt'].mean()"
   ]
  },
  {
   "cell_type": "code",
   "execution_count": 54,
   "metadata": {},
   "outputs": [],
   "source": [
    "df_new_train = pd.concat([zen,dw_solar,uw_solar,direct_n,diffuse,dw_ir,dw_casetemp,dw_dometemp,uw_ir,uw_casetemp,uw_dometemp,\n",
    "                    uvb,par,netsolar,netir,totalnet,temp,rh,windspd,winddir,pressure,ghi,Kt], axis=1)"
   ]
  },
  {
   "cell_type": "code",
   "execution_count": 55,
   "metadata": {},
   "outputs": [
    {
     "data": {
      "text/html": [
       "<div>\n",
       "<style scoped>\n",
       "    .dataframe tbody tr th:only-of-type {\n",
       "        vertical-align: middle;\n",
       "    }\n",
       "\n",
       "    .dataframe tbody tr th {\n",
       "        vertical-align: top;\n",
       "    }\n",
       "\n",
       "    .dataframe thead th {\n",
       "        text-align: right;\n",
       "    }\n",
       "</style>\n",
       "<table border=\"1\" class=\"dataframe\">\n",
       "  <thead>\n",
       "    <tr style=\"text-align: right;\">\n",
       "      <th></th>\n",
       "      <th></th>\n",
       "      <th></th>\n",
       "      <th></th>\n",
       "      <th>zen</th>\n",
       "      <th>dw_solar</th>\n",
       "      <th>uw_solar</th>\n",
       "      <th>direct_n</th>\n",
       "      <th>diffuse</th>\n",
       "      <th>dw_ir</th>\n",
       "      <th>dw_casetemp</th>\n",
       "      <th>dw_dometemp</th>\n",
       "      <th>uw_ir</th>\n",
       "      <th>uw_casetemp</th>\n",
       "      <th>...</th>\n",
       "      <th>netsolar</th>\n",
       "      <th>netir</th>\n",
       "      <th>totalnet</th>\n",
       "      <th>temp</th>\n",
       "      <th>rh</th>\n",
       "      <th>windspd</th>\n",
       "      <th>winddir</th>\n",
       "      <th>pressure</th>\n",
       "      <th>ghi</th>\n",
       "      <th>Kt</th>\n",
       "    </tr>\n",
       "    <tr>\n",
       "      <th>year</th>\n",
       "      <th>month</th>\n",
       "      <th>day</th>\n",
       "      <th>hour</th>\n",
       "      <th></th>\n",
       "      <th></th>\n",
       "      <th></th>\n",
       "      <th></th>\n",
       "      <th></th>\n",
       "      <th></th>\n",
       "      <th></th>\n",
       "      <th></th>\n",
       "      <th></th>\n",
       "      <th></th>\n",
       "      <th></th>\n",
       "      <th></th>\n",
       "      <th></th>\n",
       "      <th></th>\n",
       "      <th></th>\n",
       "      <th></th>\n",
       "      <th></th>\n",
       "      <th></th>\n",
       "      <th></th>\n",
       "      <th></th>\n",
       "      <th></th>\n",
       "    </tr>\n",
       "  </thead>\n",
       "  <tbody>\n",
       "    <tr>\n",
       "      <th rowspan=\"5\" valign=\"top\">2010.0</th>\n",
       "      <th rowspan=\"5\" valign=\"top\">1.0</th>\n",
       "      <th rowspan=\"5\" valign=\"top\">1.0</th>\n",
       "      <th>7.0</th>\n",
       "      <td>152.659762</td>\n",
       "      <td>-4.019048</td>\n",
       "      <td>0.026190</td>\n",
       "      <td>1.554762</td>\n",
       "      <td>-0.202381</td>\n",
       "      <td>182.345238</td>\n",
       "      <td>261.159524</td>\n",
       "      <td>260.650000</td>\n",
       "      <td>253.014286</td>\n",
       "      <td>259.557143</td>\n",
       "      <td>...</td>\n",
       "      <td>0.0</td>\n",
       "      <td>-70.657143</td>\n",
       "      <td>-70.657143</td>\n",
       "      <td>-13.607143</td>\n",
       "      <td>83.883333</td>\n",
       "      <td>5.145238</td>\n",
       "      <td>293.504762</td>\n",
       "      <td>999.397619</td>\n",
       "      <td>61.060726</td>\n",
       "      <td>-0.069829</td>\n",
       "    </tr>\n",
       "    <tr>\n",
       "      <th>8.0</th>\n",
       "      <td>143.730167</td>\n",
       "      <td>-3.900000</td>\n",
       "      <td>0.030000</td>\n",
       "      <td>1.731667</td>\n",
       "      <td>-0.200000</td>\n",
       "      <td>181.795000</td>\n",
       "      <td>260.780000</td>\n",
       "      <td>260.283333</td>\n",
       "      <td>251.493333</td>\n",
       "      <td>259.196667</td>\n",
       "      <td>...</td>\n",
       "      <td>0.0</td>\n",
       "      <td>-69.693333</td>\n",
       "      <td>-69.693333</td>\n",
       "      <td>-13.956667</td>\n",
       "      <td>84.893333</td>\n",
       "      <td>4.805000</td>\n",
       "      <td>296.086667</td>\n",
       "      <td>999.803333</td>\n",
       "      <td>166.338212</td>\n",
       "      <td>-0.025197</td>\n",
       "    </tr>\n",
       "    <tr>\n",
       "      <th>9.0</th>\n",
       "      <td>132.476167</td>\n",
       "      <td>-3.825000</td>\n",
       "      <td>0.011667</td>\n",
       "      <td>1.841667</td>\n",
       "      <td>-0.200000</td>\n",
       "      <td>181.033333</td>\n",
       "      <td>260.256667</td>\n",
       "      <td>259.761667</td>\n",
       "      <td>249.923333</td>\n",
       "      <td>258.665000</td>\n",
       "      <td>...</td>\n",
       "      <td>0.0</td>\n",
       "      <td>-68.890000</td>\n",
       "      <td>-68.890000</td>\n",
       "      <td>-14.476667</td>\n",
       "      <td>85.781667</td>\n",
       "      <td>4.898333</td>\n",
       "      <td>295.981667</td>\n",
       "      <td>999.783333</td>\n",
       "      <td>306.455432</td>\n",
       "      <td>-0.012680</td>\n",
       "    </tr>\n",
       "    <tr>\n",
       "      <th>10.0</th>\n",
       "      <td>121.024000</td>\n",
       "      <td>-3.793333</td>\n",
       "      <td>-0.003333</td>\n",
       "      <td>1.783333</td>\n",
       "      <td>-0.210000</td>\n",
       "      <td>183.566667</td>\n",
       "      <td>259.941667</td>\n",
       "      <td>259.446667</td>\n",
       "      <td>249.775000</td>\n",
       "      <td>258.315000</td>\n",
       "      <td>...</td>\n",
       "      <td>0.0</td>\n",
       "      <td>-66.203333</td>\n",
       "      <td>-66.203333</td>\n",
       "      <td>-14.826667</td>\n",
       "      <td>85.966667</td>\n",
       "      <td>5.083333</td>\n",
       "      <td>298.381667</td>\n",
       "      <td>999.968333</td>\n",
       "      <td>411.028556</td>\n",
       "      <td>-0.009267</td>\n",
       "    </tr>\n",
       "    <tr>\n",
       "      <th>11.0</th>\n",
       "      <td>109.724667</td>\n",
       "      <td>-3.703333</td>\n",
       "      <td>0.006667</td>\n",
       "      <td>1.758333</td>\n",
       "      <td>-0.210000</td>\n",
       "      <td>191.770000</td>\n",
       "      <td>259.800000</td>\n",
       "      <td>259.353333</td>\n",
       "      <td>250.373333</td>\n",
       "      <td>258.070000</td>\n",
       "      <td>...</td>\n",
       "      <td>0.0</td>\n",
       "      <td>-58.600000</td>\n",
       "      <td>-58.600000</td>\n",
       "      <td>-15.123333</td>\n",
       "      <td>86.431667</td>\n",
       "      <td>4.973333</td>\n",
       "      <td>299.090000</td>\n",
       "      <td>1000.193333</td>\n",
       "      <td>465.002071</td>\n",
       "      <td>-0.007967</td>\n",
       "    </tr>\n",
       "  </tbody>\n",
       "</table>\n",
       "<p>5 rows × 23 columns</p>\n",
       "</div>"
      ],
      "text/plain": [
       "                              zen  dw_solar  uw_solar  direct_n   diffuse  \\\n",
       "year   month day hour                                                       \n",
       "2010.0 1.0   1.0 7.0   152.659762 -4.019048  0.026190  1.554762 -0.202381   \n",
       "                 8.0   143.730167 -3.900000  0.030000  1.731667 -0.200000   \n",
       "                 9.0   132.476167 -3.825000  0.011667  1.841667 -0.200000   \n",
       "                 10.0  121.024000 -3.793333 -0.003333  1.783333 -0.210000   \n",
       "                 11.0  109.724667 -3.703333  0.006667  1.758333 -0.210000   \n",
       "\n",
       "                            dw_ir  dw_casetemp  dw_dometemp       uw_ir  \\\n",
       "year   month day hour                                                     \n",
       "2010.0 1.0   1.0 7.0   182.345238   261.159524   260.650000  253.014286   \n",
       "                 8.0   181.795000   260.780000   260.283333  251.493333   \n",
       "                 9.0   181.033333   260.256667   259.761667  249.923333   \n",
       "                 10.0  183.566667   259.941667   259.446667  249.775000   \n",
       "                 11.0  191.770000   259.800000   259.353333  250.373333   \n",
       "\n",
       "                       uw_casetemp    ...     netsolar      netir   totalnet  \\\n",
       "year   month day hour                 ...                                      \n",
       "2010.0 1.0   1.0 7.0    259.557143    ...          0.0 -70.657143 -70.657143   \n",
       "                 8.0    259.196667    ...          0.0 -69.693333 -69.693333   \n",
       "                 9.0    258.665000    ...          0.0 -68.890000 -68.890000   \n",
       "                 10.0   258.315000    ...          0.0 -66.203333 -66.203333   \n",
       "                 11.0   258.070000    ...          0.0 -58.600000 -58.600000   \n",
       "\n",
       "                            temp         rh   windspd     winddir  \\\n",
       "year   month day hour                                               \n",
       "2010.0 1.0   1.0 7.0  -13.607143  83.883333  5.145238  293.504762   \n",
       "                 8.0  -13.956667  84.893333  4.805000  296.086667   \n",
       "                 9.0  -14.476667  85.781667  4.898333  295.981667   \n",
       "                 10.0 -14.826667  85.966667  5.083333  298.381667   \n",
       "                 11.0 -15.123333  86.431667  4.973333  299.090000   \n",
       "\n",
       "                          pressure         ghi        Kt  \n",
       "year   month day hour                                     \n",
       "2010.0 1.0   1.0 7.0    999.397619   61.060726 -0.069829  \n",
       "                 8.0    999.803333  166.338212 -0.025197  \n",
       "                 9.0    999.783333  306.455432 -0.012680  \n",
       "                 10.0   999.968333  411.028556 -0.009267  \n",
       "                 11.0  1000.193333  465.002071 -0.007967  \n",
       "\n",
       "[5 rows x 23 columns]"
      ]
     },
     "execution_count": 55,
     "metadata": {},
     "output_type": "execute_result"
    }
   ],
   "source": [
    "df_new_train.head()"
   ]
  },
  {
   "cell_type": "markdown",
   "metadata": {},
   "source": [
    "#### Groupdata - test dataframe"
   ]
  },
  {
   "cell_type": "code",
   "execution_count": 56,
   "metadata": {},
   "outputs": [],
   "source": [
    "test_zen = df_test.groupby(['month','day','hour'])['zen'].mean()\n",
    "test_dw_solar = df_test.groupby(['month','day','hour'])['dw_solar'].mean()\n",
    "test_uw_solar = df_test.groupby(['month','day','hour'])['uw_solar'].mean()\n",
    "test_direct_n = df_test.groupby(['month','day','hour'])['direct_n'].mean()\n",
    "test_diffuse = df_test.groupby(['month','day','hour'])['diffuse'].mean()\n",
    "test_dw_ir = df_test.groupby(['month','day','hour'])['dw_ir'].mean()\n",
    "test_dw_casetemp = df_test.groupby(['month','day','hour'])['dw_casetemp'].mean()\n",
    "test_dw_dometemp = df_test.groupby(['month','day','hour'])['dw_dometemp'].mean()\n",
    "test_uw_ir = df_test.groupby(['month','day','hour'])['uw_ir'].mean()\n",
    "test_uw_casetemp = df_test.groupby(['month','day','hour'])['uw_casetemp'].mean()\n",
    "test_uw_dometemp = df_test.groupby(['month','day','hour'])['uw_dometemp'].mean()\n",
    "test_uvb = df_test.groupby(['month','day','hour'])['uvb'].mean()\n",
    "test_par = df_test.groupby(['month','day','hour'])['par'].mean()\n",
    "test_netsolar = df_test.groupby(['month','day','hour'])['netsolar'].mean()\n",
    "test_netir = df_test.groupby(['month','day','hour'])['netir'].mean()\n",
    "test_totalnet = df_test.groupby(['month','day','hour'])['totalnet'].mean()\n",
    "test_temp = df_test.groupby(['month','day','hour'])['temp'].mean()\n",
    "test_rh = df_test.groupby(['month','day','hour'])['rh'].mean()\n",
    "test_windspd = df_test.groupby(['month','day','hour'])['windspd'].mean()\n",
    "test_winddir = df_test.groupby(['month','day','hour'])['winddir'].mean()\n",
    "test_pressure = df_test.groupby(['month','day','hour'])['pressure'].mean()\n",
    "test_ghi = df_test.groupby(['month','day','hour'])['ghi'].mean()\n",
    "test_Kt = df_test.groupby(['month','day','hour'])['Kt'].mean()"
   ]
  },
  {
   "cell_type": "code",
   "execution_count": 57,
   "metadata": {},
   "outputs": [],
   "source": [
    "df_new_test = pd.concat([test_zen,test_dw_solar,test_uw_solar,test_direct_n,test_diffuse,test_dw_ir,\n",
    "                         test_dw_casetemp,test_dw_dometemp,test_uw_ir,test_uw_casetemp,test_uw_dometemp,\n",
    "                    test_uvb,test_par,test_netsolar,test_netir,test_totalnet,test_temp,test_rh,\n",
    "                         test_windspd,test_winddir,test_pressure,test_ghi,test_Kt], axis=1)"
   ]
  },
  {
   "cell_type": "code",
   "execution_count": 58,
   "metadata": {},
   "outputs": [
    {
     "data": {
      "text/html": [
       "<div>\n",
       "<style scoped>\n",
       "    .dataframe tbody tr th:only-of-type {\n",
       "        vertical-align: middle;\n",
       "    }\n",
       "\n",
       "    .dataframe tbody tr th {\n",
       "        vertical-align: top;\n",
       "    }\n",
       "\n",
       "    .dataframe thead th {\n",
       "        text-align: right;\n",
       "    }\n",
       "</style>\n",
       "<table border=\"1\" class=\"dataframe\">\n",
       "  <thead>\n",
       "    <tr style=\"text-align: right;\">\n",
       "      <th></th>\n",
       "      <th>zen</th>\n",
       "      <th>dw_solar</th>\n",
       "      <th>uw_solar</th>\n",
       "      <th>direct_n</th>\n",
       "      <th>diffuse</th>\n",
       "      <th>dw_ir</th>\n",
       "      <th>dw_casetemp</th>\n",
       "      <th>dw_dometemp</th>\n",
       "      <th>uw_ir</th>\n",
       "      <th>uw_casetemp</th>\n",
       "      <th>...</th>\n",
       "      <th>netsolar</th>\n",
       "      <th>netir</th>\n",
       "      <th>totalnet</th>\n",
       "      <th>temp</th>\n",
       "      <th>rh</th>\n",
       "      <th>windspd</th>\n",
       "      <th>winddir</th>\n",
       "      <th>pressure</th>\n",
       "      <th>ghi</th>\n",
       "      <th>Kt</th>\n",
       "    </tr>\n",
       "    <tr>\n",
       "      <th>hour</th>\n",
       "      <th></th>\n",
       "      <th></th>\n",
       "      <th></th>\n",
       "      <th></th>\n",
       "      <th></th>\n",
       "      <th></th>\n",
       "      <th></th>\n",
       "      <th></th>\n",
       "      <th></th>\n",
       "      <th></th>\n",
       "      <th></th>\n",
       "      <th></th>\n",
       "      <th></th>\n",
       "      <th></th>\n",
       "      <th></th>\n",
       "      <th></th>\n",
       "      <th></th>\n",
       "      <th></th>\n",
       "      <th></th>\n",
       "      <th></th>\n",
       "      <th></th>\n",
       "    </tr>\n",
       "  </thead>\n",
       "  <tbody>\n",
       "    <tr>\n",
       "      <th>6.0</th>\n",
       "      <td>150.182143</td>\n",
       "      <td>-4.521429</td>\n",
       "      <td>-0.471429</td>\n",
       "      <td>1.007143</td>\n",
       "      <td>0.421429</td>\n",
       "      <td>216.700000</td>\n",
       "      <td>272.085714</td>\n",
       "      <td>271.642857</td>\n",
       "      <td>286.392857</td>\n",
       "      <td>270.300000</td>\n",
       "      <td>...</td>\n",
       "      <td>0.000000</td>\n",
       "      <td>-69.692857</td>\n",
       "      <td>-69.692857</td>\n",
       "      <td>-2.271429</td>\n",
       "      <td>89.750000</td>\n",
       "      <td>2.871429</td>\n",
       "      <td>174.300000</td>\n",
       "      <td>998.471429</td>\n",
       "      <td>37.874247</td>\n",
       "      <td>-0.120932</td>\n",
       "    </tr>\n",
       "    <tr>\n",
       "      <th>7.0</th>\n",
       "      <td>146.446833</td>\n",
       "      <td>-4.301667</td>\n",
       "      <td>-0.345000</td>\n",
       "      <td>0.326667</td>\n",
       "      <td>0.518333</td>\n",
       "      <td>216.170000</td>\n",
       "      <td>271.606667</td>\n",
       "      <td>271.146667</td>\n",
       "      <td>284.053333</td>\n",
       "      <td>269.938333</td>\n",
       "      <td>...</td>\n",
       "      <td>0.000000</td>\n",
       "      <td>-67.881667</td>\n",
       "      <td>-67.881667</td>\n",
       "      <td>-2.773333</td>\n",
       "      <td>92.965000</td>\n",
       "      <td>3.066667</td>\n",
       "      <td>146.796667</td>\n",
       "      <td>997.966667</td>\n",
       "      <td>108.318844</td>\n",
       "      <td>-0.050473</td>\n",
       "    </tr>\n",
       "    <tr>\n",
       "      <th>8.0</th>\n",
       "      <td>137.938333</td>\n",
       "      <td>-4.831667</td>\n",
       "      <td>-0.351667</td>\n",
       "      <td>1.045000</td>\n",
       "      <td>0.490000</td>\n",
       "      <td>216.516667</td>\n",
       "      <td>271.153333</td>\n",
       "      <td>270.733333</td>\n",
       "      <td>288.993333</td>\n",
       "      <td>269.398333</td>\n",
       "      <td>...</td>\n",
       "      <td>0.000000</td>\n",
       "      <td>-72.466667</td>\n",
       "      <td>-72.466667</td>\n",
       "      <td>-3.256667</td>\n",
       "      <td>94.690000</td>\n",
       "      <td>3.873333</td>\n",
       "      <td>152.585000</td>\n",
       "      <td>996.900000</td>\n",
       "      <td>284.228645</td>\n",
       "      <td>-0.017408</td>\n",
       "    </tr>\n",
       "    <tr>\n",
       "      <th>9.0</th>\n",
       "      <td>127.563000</td>\n",
       "      <td>-5.281667</td>\n",
       "      <td>-0.308333</td>\n",
       "      <td>0.951667</td>\n",
       "      <td>0.436667</td>\n",
       "      <td>223.628333</td>\n",
       "      <td>271.841667</td>\n",
       "      <td>271.390000</td>\n",
       "      <td>294.260000</td>\n",
       "      <td>269.860000</td>\n",
       "      <td>...</td>\n",
       "      <td>0.000000</td>\n",
       "      <td>-70.631667</td>\n",
       "      <td>-70.631667</td>\n",
       "      <td>-2.865000</td>\n",
       "      <td>91.560000</td>\n",
       "      <td>4.900000</td>\n",
       "      <td>164.426667</td>\n",
       "      <td>995.828333</td>\n",
       "      <td>448.178675</td>\n",
       "      <td>-0.011885</td>\n",
       "    </tr>\n",
       "    <tr>\n",
       "      <th>10.0</th>\n",
       "      <td>116.367333</td>\n",
       "      <td>-5.035000</td>\n",
       "      <td>-0.243333</td>\n",
       "      <td>0.833333</td>\n",
       "      <td>0.373333</td>\n",
       "      <td>236.190000</td>\n",
       "      <td>272.423333</td>\n",
       "      <td>271.983333</td>\n",
       "      <td>296.791667</td>\n",
       "      <td>270.326667</td>\n",
       "      <td>...</td>\n",
       "      <td>0.000000</td>\n",
       "      <td>-60.611667</td>\n",
       "      <td>-60.611667</td>\n",
       "      <td>-2.485000</td>\n",
       "      <td>89.688333</td>\n",
       "      <td>4.981667</td>\n",
       "      <td>173.578333</td>\n",
       "      <td>995.345000</td>\n",
       "      <td>570.306262</td>\n",
       "      <td>-0.008854</td>\n",
       "    </tr>\n",
       "    <tr>\n",
       "      <th>11.0</th>\n",
       "      <td>104.909333</td>\n",
       "      <td>-5.066667</td>\n",
       "      <td>-0.135000</td>\n",
       "      <td>0.480000</td>\n",
       "      <td>0.401667</td>\n",
       "      <td>233.243333</td>\n",
       "      <td>272.581667</td>\n",
       "      <td>272.093333</td>\n",
       "      <td>297.226667</td>\n",
       "      <td>270.480000</td>\n",
       "      <td>...</td>\n",
       "      <td>0.000000</td>\n",
       "      <td>-63.985000</td>\n",
       "      <td>-63.985000</td>\n",
       "      <td>-2.386667</td>\n",
       "      <td>92.431667</td>\n",
       "      <td>5.595000</td>\n",
       "      <td>167.585000</td>\n",
       "      <td>994.613333</td>\n",
       "      <td>638.422279</td>\n",
       "      <td>-0.007937</td>\n",
       "    </tr>\n",
       "    <tr>\n",
       "      <th>12.0</th>\n",
       "      <td>93.430833</td>\n",
       "      <td>-2.668333</td>\n",
       "      <td>0.580000</td>\n",
       "      <td>1.250000</td>\n",
       "      <td>3.091667</td>\n",
       "      <td>238.826667</td>\n",
       "      <td>272.686667</td>\n",
       "      <td>272.196667</td>\n",
       "      <td>298.433333</td>\n",
       "      <td>270.543333</td>\n",
       "      <td>...</td>\n",
       "      <td>2.351667</td>\n",
       "      <td>-59.603333</td>\n",
       "      <td>-57.251667</td>\n",
       "      <td>-2.320000</td>\n",
       "      <td>92.493333</td>\n",
       "      <td>6.421667</td>\n",
       "      <td>167.895000</td>\n",
       "      <td>993.798333</td>\n",
       "      <td>646.734117</td>\n",
       "      <td>-0.004067</td>\n",
       "    </tr>\n",
       "    <tr>\n",
       "      <th>13.0</th>\n",
       "      <td>82.473333</td>\n",
       "      <td>50.488333</td>\n",
       "      <td>14.828333</td>\n",
       "      <td>7.531667</td>\n",
       "      <td>57.045000</td>\n",
       "      <td>245.631667</td>\n",
       "      <td>273.396667</td>\n",
       "      <td>272.983333</td>\n",
       "      <td>302.830000</td>\n",
       "      <td>271.061667</td>\n",
       "      <td>...</td>\n",
       "      <td>43.403333</td>\n",
       "      <td>-57.188333</td>\n",
       "      <td>-13.786667</td>\n",
       "      <td>-1.801667</td>\n",
       "      <td>91.796667</td>\n",
       "      <td>6.791667</td>\n",
       "      <td>167.960000</td>\n",
       "      <td>993.278333</td>\n",
       "      <td>594.568596</td>\n",
       "      <td>0.086837</td>\n",
       "    </tr>\n",
       "    <tr>\n",
       "      <th>14.0</th>\n",
       "      <td>72.405000</td>\n",
       "      <td>136.151667</td>\n",
       "      <td>36.918333</td>\n",
       "      <td>13.550000</td>\n",
       "      <td>140.373333</td>\n",
       "      <td>286.001667</td>\n",
       "      <td>275.108333</td>\n",
       "      <td>274.810000</td>\n",
       "      <td>312.523333</td>\n",
       "      <td>272.315000</td>\n",
       "      <td>...</td>\n",
       "      <td>107.461667</td>\n",
       "      <td>-26.526667</td>\n",
       "      <td>80.938333</td>\n",
       "      <td>-0.561667</td>\n",
       "      <td>101.838333</td>\n",
       "      <td>7.736667</td>\n",
       "      <td>175.430000</td>\n",
       "      <td>992.623333</td>\n",
       "      <td>486.293072</td>\n",
       "      <td>0.287014</td>\n",
       "    </tr>\n",
       "    <tr>\n",
       "      <th>15.0</th>\n",
       "      <td>63.572667</td>\n",
       "      <td>249.433333</td>\n",
       "      <td>63.790000</td>\n",
       "      <td>22.685000</td>\n",
       "      <td>249.351667</td>\n",
       "      <td>287.831667</td>\n",
       "      <td>277.000000</td>\n",
       "      <td>276.723333</td>\n",
       "      <td>322.285000</td>\n",
       "      <td>273.716667</td>\n",
       "      <td>...</td>\n",
       "      <td>195.410000</td>\n",
       "      <td>-34.446667</td>\n",
       "      <td>160.953333</td>\n",
       "      <td>0.821667</td>\n",
       "      <td>109.766667</td>\n",
       "      <td>8.668333</td>\n",
       "      <td>182.706667</td>\n",
       "      <td>991.760000</td>\n",
       "      <td>332.051692</td>\n",
       "      <td>0.774799</td>\n",
       "    </tr>\n",
       "    <tr>\n",
       "      <th>16.0</th>\n",
       "      <td>56.723667</td>\n",
       "      <td>288.480000</td>\n",
       "      <td>73.990000</td>\n",
       "      <td>45.445000</td>\n",
       "      <td>272.428333</td>\n",
       "      <td>299.576667</td>\n",
       "      <td>278.595000</td>\n",
       "      <td>278.275000</td>\n",
       "      <td>331.316667</td>\n",
       "      <td>274.995000</td>\n",
       "      <td>...</td>\n",
       "      <td>222.996667</td>\n",
       "      <td>-31.736667</td>\n",
       "      <td>191.260000</td>\n",
       "      <td>1.906667</td>\n",
       "      <td>107.371667</td>\n",
       "      <td>9.136667</td>\n",
       "      <td>179.690000</td>\n",
       "      <td>990.573333</td>\n",
       "      <td>153.597510</td>\n",
       "      <td>2.067046</td>\n",
       "    </tr>\n",
       "    <tr>\n",
       "      <th>17.0</th>\n",
       "      <td>53.264194</td>\n",
       "      <td>314.187097</td>\n",
       "      <td>79.038710</td>\n",
       "      <td>4.867742</td>\n",
       "      <td>319.570968</td>\n",
       "      <td>309.864516</td>\n",
       "      <td>279.222581</td>\n",
       "      <td>278.980645</td>\n",
       "      <td>336.116129</td>\n",
       "      <td>275.416129</td>\n",
       "      <td>...</td>\n",
       "      <td>243.445161</td>\n",
       "      <td>-26.254839</td>\n",
       "      <td>217.200000</td>\n",
       "      <td>2.474194</td>\n",
       "      <td>111.645161</td>\n",
       "      <td>9.616129</td>\n",
       "      <td>176.358065</td>\n",
       "      <td>989.632258</td>\n",
       "      <td>45.373147</td>\n",
       "      <td>7.893298</td>\n",
       "    </tr>\n",
       "  </tbody>\n",
       "</table>\n",
       "<p>12 rows × 23 columns</p>\n",
       "</div>"
      ],
      "text/plain": [
       "             zen    dw_solar   uw_solar   direct_n     diffuse       dw_ir  \\\n",
       "hour                                                                         \n",
       "6.0   150.182143   -4.521429  -0.471429   1.007143    0.421429  216.700000   \n",
       "7.0   146.446833   -4.301667  -0.345000   0.326667    0.518333  216.170000   \n",
       "8.0   137.938333   -4.831667  -0.351667   1.045000    0.490000  216.516667   \n",
       "9.0   127.563000   -5.281667  -0.308333   0.951667    0.436667  223.628333   \n",
       "10.0  116.367333   -5.035000  -0.243333   0.833333    0.373333  236.190000   \n",
       "11.0  104.909333   -5.066667  -0.135000   0.480000    0.401667  233.243333   \n",
       "12.0   93.430833   -2.668333   0.580000   1.250000    3.091667  238.826667   \n",
       "13.0   82.473333   50.488333  14.828333   7.531667   57.045000  245.631667   \n",
       "14.0   72.405000  136.151667  36.918333  13.550000  140.373333  286.001667   \n",
       "15.0   63.572667  249.433333  63.790000  22.685000  249.351667  287.831667   \n",
       "16.0   56.723667  288.480000  73.990000  45.445000  272.428333  299.576667   \n",
       "17.0   53.264194  314.187097  79.038710   4.867742  319.570968  309.864516   \n",
       "\n",
       "      dw_casetemp  dw_dometemp       uw_ir  uw_casetemp    ...       netsolar  \\\n",
       "hour                                                       ...                  \n",
       "6.0    272.085714   271.642857  286.392857   270.300000    ...       0.000000   \n",
       "7.0    271.606667   271.146667  284.053333   269.938333    ...       0.000000   \n",
       "8.0    271.153333   270.733333  288.993333   269.398333    ...       0.000000   \n",
       "9.0    271.841667   271.390000  294.260000   269.860000    ...       0.000000   \n",
       "10.0   272.423333   271.983333  296.791667   270.326667    ...       0.000000   \n",
       "11.0   272.581667   272.093333  297.226667   270.480000    ...       0.000000   \n",
       "12.0   272.686667   272.196667  298.433333   270.543333    ...       2.351667   \n",
       "13.0   273.396667   272.983333  302.830000   271.061667    ...      43.403333   \n",
       "14.0   275.108333   274.810000  312.523333   272.315000    ...     107.461667   \n",
       "15.0   277.000000   276.723333  322.285000   273.716667    ...     195.410000   \n",
       "16.0   278.595000   278.275000  331.316667   274.995000    ...     222.996667   \n",
       "17.0   279.222581   278.980645  336.116129   275.416129    ...     243.445161   \n",
       "\n",
       "          netir    totalnet      temp          rh   windspd     winddir  \\\n",
       "hour                                                                      \n",
       "6.0  -69.692857  -69.692857 -2.271429   89.750000  2.871429  174.300000   \n",
       "7.0  -67.881667  -67.881667 -2.773333   92.965000  3.066667  146.796667   \n",
       "8.0  -72.466667  -72.466667 -3.256667   94.690000  3.873333  152.585000   \n",
       "9.0  -70.631667  -70.631667 -2.865000   91.560000  4.900000  164.426667   \n",
       "10.0 -60.611667  -60.611667 -2.485000   89.688333  4.981667  173.578333   \n",
       "11.0 -63.985000  -63.985000 -2.386667   92.431667  5.595000  167.585000   \n",
       "12.0 -59.603333  -57.251667 -2.320000   92.493333  6.421667  167.895000   \n",
       "13.0 -57.188333  -13.786667 -1.801667   91.796667  6.791667  167.960000   \n",
       "14.0 -26.526667   80.938333 -0.561667  101.838333  7.736667  175.430000   \n",
       "15.0 -34.446667  160.953333  0.821667  109.766667  8.668333  182.706667   \n",
       "16.0 -31.736667  191.260000  1.906667  107.371667  9.136667  179.690000   \n",
       "17.0 -26.254839  217.200000  2.474194  111.645161  9.616129  176.358065   \n",
       "\n",
       "        pressure         ghi        Kt  \n",
       "hour                                    \n",
       "6.0   998.471429   37.874247 -0.120932  \n",
       "7.0   997.966667  108.318844 -0.050473  \n",
       "8.0   996.900000  284.228645 -0.017408  \n",
       "9.0   995.828333  448.178675 -0.011885  \n",
       "10.0  995.345000  570.306262 -0.008854  \n",
       "11.0  994.613333  638.422279 -0.007937  \n",
       "12.0  993.798333  646.734117 -0.004067  \n",
       "13.0  993.278333  594.568596  0.086837  \n",
       "14.0  992.623333  486.293072  0.287014  \n",
       "15.0  991.760000  332.051692  0.774799  \n",
       "16.0  990.573333  153.597510  2.067046  \n",
       "17.0  989.632258   45.373147  7.893298  \n",
       "\n",
       "[12 rows x 23 columns]"
      ]
     },
     "execution_count": 58,
     "metadata": {},
     "output_type": "execute_result"
    }
   ],
   "source": [
    "df_new_test.loc[2].xs(17,level='day')"
   ]
  },
  {
   "cell_type": "markdown",
   "metadata": {},
   "source": [
    "### Shifting Kt values to make 3 hour ahead forecast"
   ]
  },
  {
   "cell_type": "markdown",
   "metadata": {},
   "source": [
    "#### Train dataset"
   ]
  },
  {
   "cell_type": "code",
   "execution_count": 59,
   "metadata": {},
   "outputs": [],
   "source": [
    "levels_index= []\n",
    "for m in df_new_train.index.levels:\n",
    "    levels_index.append(m)"
   ]
  },
  {
   "cell_type": "code",
   "execution_count": 60,
   "metadata": {
    "scrolled": true
   },
   "outputs": [],
   "source": [
    "for i in levels_index[0]:\n",
    "    for j in levels_index[1]:\n",
    "        df_new_train.loc[i].loc[j]['Kt'] = df_new_train.loc[i].loc[j]['Kt'].shift(-3)"
   ]
  },
  {
   "cell_type": "code",
   "execution_count": 61,
   "metadata": {},
   "outputs": [],
   "source": [
    "df_new_train = df_new_train[~(df_new_train['Kt'].isnull())]"
   ]
  },
  {
   "cell_type": "markdown",
   "metadata": {},
   "source": [
    "#### Test dataset"
   ]
  },
  {
   "cell_type": "code",
   "execution_count": 62,
   "metadata": {},
   "outputs": [],
   "source": [
    "levels_index2= []\n",
    "for m in df_new_test.index.levels:\n",
    "    levels_index2.append(m)"
   ]
  },
  {
   "cell_type": "code",
   "execution_count": 63,
   "metadata": {},
   "outputs": [],
   "source": [
    "for i in levels_index2[0]:\n",
    "    for j in levels_index2[1]:\n",
    "        df_new_test.loc[i].loc[j]['Kt'] = df_new_test.loc[i].loc[j]['Kt'].shift(-3)"
   ]
  },
  {
   "cell_type": "code",
   "execution_count": 64,
   "metadata": {},
   "outputs": [],
   "source": [
    "df_new_test = df_new_test[~(df_new_test['Kt'].isnull())]"
   ]
  },
  {
   "cell_type": "code",
   "execution_count": 65,
   "metadata": {},
   "outputs": [
    {
     "data": {
      "text/html": [
       "<div>\n",
       "<style scoped>\n",
       "    .dataframe tbody tr th:only-of-type {\n",
       "        vertical-align: middle;\n",
       "    }\n",
       "\n",
       "    .dataframe tbody tr th {\n",
       "        vertical-align: top;\n",
       "    }\n",
       "\n",
       "    .dataframe thead th {\n",
       "        text-align: right;\n",
       "    }\n",
       "</style>\n",
       "<table border=\"1\" class=\"dataframe\">\n",
       "  <thead>\n",
       "    <tr style=\"text-align: right;\">\n",
       "      <th></th>\n",
       "      <th></th>\n",
       "      <th></th>\n",
       "      <th>zen</th>\n",
       "      <th>dw_solar</th>\n",
       "      <th>uw_solar</th>\n",
       "      <th>direct_n</th>\n",
       "      <th>diffuse</th>\n",
       "      <th>dw_ir</th>\n",
       "      <th>dw_casetemp</th>\n",
       "      <th>dw_dometemp</th>\n",
       "      <th>uw_ir</th>\n",
       "      <th>uw_casetemp</th>\n",
       "      <th>...</th>\n",
       "      <th>netsolar</th>\n",
       "      <th>netir</th>\n",
       "      <th>totalnet</th>\n",
       "      <th>temp</th>\n",
       "      <th>rh</th>\n",
       "      <th>windspd</th>\n",
       "      <th>winddir</th>\n",
       "      <th>pressure</th>\n",
       "      <th>ghi</th>\n",
       "      <th>Kt</th>\n",
       "    </tr>\n",
       "    <tr>\n",
       "      <th>month</th>\n",
       "      <th>day</th>\n",
       "      <th>hour</th>\n",
       "      <th></th>\n",
       "      <th></th>\n",
       "      <th></th>\n",
       "      <th></th>\n",
       "      <th></th>\n",
       "      <th></th>\n",
       "      <th></th>\n",
       "      <th></th>\n",
       "      <th></th>\n",
       "      <th></th>\n",
       "      <th></th>\n",
       "      <th></th>\n",
       "      <th></th>\n",
       "      <th></th>\n",
       "      <th></th>\n",
       "      <th></th>\n",
       "      <th></th>\n",
       "      <th></th>\n",
       "      <th></th>\n",
       "      <th></th>\n",
       "      <th></th>\n",
       "    </tr>\n",
       "  </thead>\n",
       "  <tbody>\n",
       "    <tr>\n",
       "      <th>8.0</th>\n",
       "      <th>5.0</th>\n",
       "      <th>17.0</th>\n",
       "      <td>24.436167</td>\n",
       "      <td>668.051667</td>\n",
       "      <td>138.371667</td>\n",
       "      <td>108.608333</td>\n",
       "      <td>572.83</td>\n",
       "      <td>413.82</td>\n",
       "      <td>303.138333</td>\n",
       "      <td>303.413333</td>\n",
       "      <td>469.595</td>\n",
       "      <td>299.221667</td>\n",
       "      <td>...</td>\n",
       "      <td>533.685</td>\n",
       "      <td>-55.766667</td>\n",
       "      <td>477.916667</td>\n",
       "      <td>24.146667</td>\n",
       "      <td>75.99</td>\n",
       "      <td>2.611667</td>\n",
       "      <td>44.041667</td>\n",
       "      <td>992.651667</td>\n",
       "      <td>395.126226</td>\n",
       "      <td>1146.230573</td>\n",
       "    </tr>\n",
       "  </tbody>\n",
       "</table>\n",
       "<p>1 rows × 23 columns</p>\n",
       "</div>"
      ],
      "text/plain": [
       "                      zen    dw_solar    uw_solar    direct_n  diffuse  \\\n",
       "month day hour                                                           \n",
       "8.0   5.0 17.0  24.436167  668.051667  138.371667  108.608333   572.83   \n",
       "\n",
       "                 dw_ir  dw_casetemp  dw_dometemp    uw_ir  uw_casetemp  \\\n",
       "month day hour                                                           \n",
       "8.0   5.0 17.0  413.82   303.138333   303.413333  469.595   299.221667   \n",
       "\n",
       "                   ...       netsolar      netir    totalnet       temp  \\\n",
       "month day hour     ...                                                    \n",
       "8.0   5.0 17.0     ...        533.685 -55.766667  477.916667  24.146667   \n",
       "\n",
       "                   rh   windspd    winddir    pressure         ghi  \\\n",
       "month day hour                                                       \n",
       "8.0   5.0 17.0  75.99  2.611667  44.041667  992.651667  395.126226   \n",
       "\n",
       "                         Kt  \n",
       "month day hour               \n",
       "8.0   5.0 17.0  1146.230573  \n",
       "\n",
       "[1 rows x 23 columns]"
      ]
     },
     "execution_count": 65,
     "metadata": {},
     "output_type": "execute_result"
    }
   ],
   "source": [
    "df_new_test[df_new_test['Kt']==df_new_test['Kt'].max()]"
   ]
  },
  {
   "cell_type": "markdown",
   "metadata": {},
   "source": [
    "### Normalize train and test dataframe"
   ]
  },
  {
   "cell_type": "code",
   "execution_count": 66,
   "metadata": {},
   "outputs": [],
   "source": [
    "train_norm = (df_new_train - df_new_train.mean()) / (df_new_train.max() - df_new_train.min())\n",
    "test_norm =  (df_new_test - df_new_test.mean()) / (df_new_test.max() - df_new_test.min())"
   ]
  },
  {
   "cell_type": "code",
   "execution_count": 67,
   "metadata": {},
   "outputs": [],
   "source": [
    "train_norm.reset_index(inplace=True,drop=True)\n",
    "test_norm.reset_index(inplace=True,drop=True)"
   ]
  },
  {
   "cell_type": "markdown",
   "metadata": {
    "collapsed": true
   },
   "source": [
    "### Making train and test sets with train_norm and test_norm"
   ]
  },
  {
   "cell_type": "markdown",
   "metadata": {
    "collapsed": true
   },
   "source": [
    "#### finding the gcf (greatest common factor) of train and test dataset's length and chop off the extra rows to make it divisible with the batchsize"
   ]
  },
  {
   "cell_type": "code",
   "execution_count": 68,
   "metadata": {},
   "outputs": [
    {
     "name": "stderr",
     "output_type": "stream",
     "text": [
      "C:\\Users\\s269596\\AppData\\Local\\Continuum\\Anaconda3\\lib\\site-packages\\ipykernel_launcher.py:2: DeprecationWarning: fractions.gcd() is deprecated. Use math.gcd() instead.\n",
      "  \n"
     ]
    },
    {
     "data": {
      "text/plain": [
       "14"
      ]
     },
     "execution_count": 68,
     "metadata": {},
     "output_type": "execute_result"
    }
   ],
   "source": [
    "from fractions import gcd\n",
    "gcd(train_norm.shape[0],test_norm.shape[0])"
   ]
  },
  {
   "cell_type": "code",
   "execution_count": 69,
   "metadata": {},
   "outputs": [],
   "source": [
    "import math\n",
    "def roundup(x):\n",
    "    return int(math.ceil(x / 100.0)) * 100"
   ]
  },
  {
   "cell_type": "code",
   "execution_count": 70,
   "metadata": {},
   "outputs": [],
   "source": [
    "train_lim = roundup(train_norm.shape[0])\n",
    "test_lim = roundup(test_norm.shape[0])\n",
    "\n",
    "train_random = train_norm.sample(train_lim-train_norm.shape[0])\n",
    "test_random = test_norm.sample(test_lim-test_norm.shape[0])\n",
    "\n",
    "train_norm = train_norm.append(train_random)\n",
    "test_norm = test_norm.append(test_random)"
   ]
  },
  {
   "cell_type": "code",
   "execution_count": 71,
   "metadata": {},
   "outputs": [],
   "source": [
    "X1 = train_norm.drop('Kt',axis=1)\n",
    "y1 = train_norm['Kt']\n",
    "\n",
    "X2 = test_norm.drop('Kt',axis=1)\n",
    "y2 = test_norm['Kt']"
   ]
  },
  {
   "cell_type": "code",
   "execution_count": 72,
   "metadata": {
    "scrolled": true
   },
   "outputs": [
    {
     "name": "stdout",
     "output_type": "stream",
     "text": [
      "X1_train shape is (9500, 22)\n",
      "y1_train shape is (9500,)\n",
      "X2_test shape is (3700, 22)\n",
      "y2_test shape is (3700,)\n"
     ]
    }
   ],
   "source": [
    "print(\"X1_train shape is {}\".format(X1.shape))\n",
    "print(\"y1_train shape is {}\".format(y1.shape))\n",
    "print(\"X2_test shape is {}\".format(X2.shape))\n",
    "print(\"y2_test shape is {}\".format(y2.shape))"
   ]
  },
  {
   "cell_type": "code",
   "execution_count": 73,
   "metadata": {},
   "outputs": [],
   "source": [
    "X_train = np.array(X1)\n",
    "y_train  = np.array(y1)\n",
    "X_test = np.array(X2)\n",
    "y_test = np.array(y2)"
   ]
  },
  {
   "cell_type": "markdown",
   "metadata": {},
   "source": [
    "### start of RNN"
   ]
  },
  {
   "cell_type": "code",
   "execution_count": 74,
   "metadata": {},
   "outputs": [],
   "source": [
    "import torch\n",
    "import torch.nn as nn\n",
    "import torchvision.transforms as transforms\n",
    "import torchvision.datasets as dsets\n",
    "from torch.autograd import Variable"
   ]
  },
  {
   "cell_type": "code",
   "execution_count": 75,
   "metadata": {},
   "outputs": [],
   "source": [
    "class RNNModel(nn.Module):\n",
    "    def __init__(self, input_dim, hidden_dim, layer_dim, output_dim):\n",
    "        super(RNNModel, self).__init__()\n",
    "        #Hidden Dimension\n",
    "        self.hidden_dim = hidden_dim\n",
    "        \n",
    "        # Number of hidden layers\n",
    "        self.layer_dim = layer_dim\n",
    "        \n",
    "        #Building the RNN\n",
    "        self.rnn = nn.RNN(input_dim, hidden_dim, layer_dim, batch_first=True, nonlinearity='relu')\n",
    "        \n",
    "        # Readout layer\n",
    "        self.fc = nn.Linear(hidden_dim, output_dim)\n",
    "        \n",
    "    def forward(self, x):\n",
    "        # Initializing the hidden state with zeros\n",
    "        # (layer_dim, batch_size, hidden_dim)\n",
    "        h0 = Variable(torch.zeros(self.layer_dim, x.size(0), self.hidden_dim))\n",
    "        \n",
    "        #One time step (the last one perhaps?)\n",
    "        out, hn = self.rnn(x, h0)\n",
    "        \n",
    "        # Indexing hidden state of the last time step\n",
    "        # out.size() --> ??\n",
    "        #out[:,-1,:] --> is it going to be 100,100\n",
    "        out = self.fc(out[:,-1,:])\n",
    "        # out.size() --> 100,1\n",
    "        return out\n",
    "        "
   ]
  },
  {
   "cell_type": "code",
   "execution_count": 76,
   "metadata": {},
   "outputs": [],
   "source": [
    "# Instantiating Model Class\n",
    "input_dim = 22\n",
    "hidden_dim = 15\n",
    "layer_dim = 1\n",
    "output_dim = 1\n",
    "batch_size = 100\n",
    "\n",
    "model = RNNModel(input_dim, hidden_dim, layer_dim, output_dim)\n",
    "\n",
    "# Instantiating Loss Class\n",
    "criterion = nn.MSELoss()\n",
    "\n",
    "# Instantiate Optimizer Class\n",
    "learning_rate = 0.001\n",
    "optimizer = torch.optim.SGD(model.parameters(), lr=learning_rate)\n",
    "\n",
    "# converting numpy array to torch tensor\n",
    "X_train = torch.from_numpy(X_train)\n",
    "y_train = torch.from_numpy(y_train)\n",
    "X_test = torch.from_numpy(X_test)\n",
    "y_test = torch.from_numpy(y_test)\n",
    "\n",
    "# initializing lists to store losses over epochs:\n",
    "train_loss = []\n",
    "test_loss = []\n",
    "train_iter = []\n",
    "test_iter = []"
   ]
  },
  {
   "cell_type": "code",
   "execution_count": 77,
   "metadata": {
    "scrolled": true
   },
   "outputs": [
    {
     "name": "stdout",
     "output_type": "stream",
     "text": [
      "Epoch: 0 Iteration: 0. Train_MSE: 0.0008626343333162367. Test_MSE: 0.00020438484014286917\n",
      "Epoch: 2 Iteration: 200. Train_MSE: 0.0016430035466328263. Test_MSE: 0.00018381662466412035\n",
      "Epoch: 4 Iteration: 400. Train_MSE: 0.0012807791354134679. Test_MSE: 0.00018774570209620638\n",
      "Epoch: 6 Iteration: 600. Train_MSE: 0.0006465556216426194. Test_MSE: 0.00019146948437230693\n",
      "Epoch: 8 Iteration: 800. Train_MSE: 0.00042490451596677303. Test_MSE: 0.00019560103999942307\n",
      "Epoch: 10 Iteration: 1000. Train_MSE: 0.0010251523926854134. Test_MSE: 0.00019989580734136245\n",
      "Epoch: 12 Iteration: 1200. Train_MSE: 0.0011242320761084557. Test_MSE: 0.00020042695256479575\n",
      "Epoch: 14 Iteration: 1400. Train_MSE: 0.0005694489809684455. Test_MSE: 0.00019810187403648734\n",
      "Epoch: 17 Iteration: 1600. Train_MSE: 0.005880358628928661. Test_MSE: 0.00019783992427137604\n",
      "Epoch: 19 Iteration: 1800. Train_MSE: 0.0011623500613495708. Test_MSE: 0.00020015081142415485\n",
      "Epoch: 21 Iteration: 2000. Train_MSE: 0.0016135864425450563. Test_MSE: 0.0001976398646698507\n",
      "Epoch: 23 Iteration: 2200. Train_MSE: 0.00044646195601671934. Test_MSE: 0.00019495974545404585\n",
      "Epoch: 25 Iteration: 2400. Train_MSE: 0.00043782670400105417. Test_MSE: 0.00019504669416662795\n",
      "Epoch: 27 Iteration: 2600. Train_MSE: 0.0007763431058265269. Test_MSE: 0.00019690277932439405\n",
      "Epoch: 29 Iteration: 2800. Train_MSE: 0.0025061361957341433. Test_MSE: 0.00019485332603433192\n",
      "Epoch: 31 Iteration: 3000. Train_MSE: 0.0003669433353934437. Test_MSE: 0.00019256768864959762\n",
      "Epoch: 34 Iteration: 3200. Train_MSE: 0.0006434627575799823. Test_MSE: 0.00019218915149809984\n",
      "Epoch: 36 Iteration: 3400. Train_MSE: 0.0007434032158926129. Test_MSE: 0.0001941601109928395\n",
      "Epoch: 38 Iteration: 3600. Train_MSE: 0.0015125322388485074. Test_MSE: 0.0001905627467922777\n",
      "Epoch: 40 Iteration: 3800. Train_MSE: 0.00032639503479003906. Test_MSE: 0.00018902536559431892\n",
      "Epoch: 42 Iteration: 4000. Train_MSE: 0.0004468226106837392. Test_MSE: 0.0001889286247140146\n",
      "Epoch: 44 Iteration: 4200. Train_MSE: 0.016560418531298637. Test_MSE: 0.00019097135639228887\n",
      "Epoch: 46 Iteration: 4400. Train_MSE: 0.004094475414603949. Test_MSE: 0.0001880001089165187\n",
      "Epoch: 48 Iteration: 4600. Train_MSE: 0.0003297636576462537. Test_MSE: 0.00018660901125687934\n",
      "Epoch: 51 Iteration: 4800. Train_MSE: 0.0005094176158308983. Test_MSE: 0.00018632270889719325\n",
      "Epoch: 53 Iteration: 5000. Train_MSE: 0.0027026685420423746. Test_MSE: 0.0001881255833515987\n",
      "Epoch: 55 Iteration: 5200. Train_MSE: 0.0012368420138955116. Test_MSE: 0.00018394243791527312\n",
      "Epoch: 57 Iteration: 5400. Train_MSE: 0.0004072022857144475. Test_MSE: 0.00018327812788034956\n",
      "Epoch: 59 Iteration: 5600. Train_MSE: 0.0005343108205124736. Test_MSE: 0.00018316803248162746\n",
      "Epoch: 61 Iteration: 5800. Train_MSE: 0.001287271035835147. Test_MSE: 0.00018499768630448972\n",
      "Epoch: 63 Iteration: 6000. Train_MSE: 0.0005728552350774407. Test_MSE: 0.00018178210634015523\n",
      "Epoch: 65 Iteration: 6200. Train_MSE: 0.00037461574538610876. Test_MSE: 0.00018079186120703784\n",
      "Epoch: 68 Iteration: 6400. Train_MSE: 0.001122277812100947. Test_MSE: 0.00018101072898045562\n",
      "Epoch: 70 Iteration: 6600. Train_MSE: 0.0010857688030228019. Test_MSE: 0.00018203183005580678\n",
      "Epoch: 72 Iteration: 6800. Train_MSE: 0.0007740399450995028. Test_MSE: 0.0001781248950093868\n",
      "Epoch: 74 Iteration: 7000. Train_MSE: 0.00031761269201524556. Test_MSE: 0.0001775713035159595\n",
      "Epoch: 76 Iteration: 7200. Train_MSE: 0.0008444442064501345. Test_MSE: 0.0001779092099908116\n",
      "Epoch: 78 Iteration: 7400. Train_MSE: 0.0011294969590380788. Test_MSE: 0.00017933791716526985\n",
      "Epoch: 80 Iteration: 7600. Train_MSE: 0.0008823935640975833. Test_MSE: 0.000176021244087393\n",
      "Epoch: 82 Iteration: 7800. Train_MSE: 0.00036560260923579335. Test_MSE: 0.00017519213402401981\n",
      "Epoch: 85 Iteration: 8000. Train_MSE: 0.0007223415304906666. Test_MSE: 0.00017612198729181943\n",
      "Epoch: 87 Iteration: 8200. Train_MSE: 0.001134566031396389. Test_MSE: 0.0001759560521761877\n",
      "Epoch: 89 Iteration: 8400. Train_MSE: 0.0031404225155711174. Test_MSE: 0.00017279244946843977\n",
      "Epoch: 91 Iteration: 8600. Train_MSE: 0.0002481624251231551. Test_MSE: 0.00017215481161012266\n",
      "Epoch: 93 Iteration: 8800. Train_MSE: 0.0008438645163550973. Test_MSE: 0.00017322894451889202\n",
      "Epoch: 95 Iteration: 9000. Train_MSE: 0.000746886944398284. Test_MSE: 0.00017385295146964022\n",
      "Epoch: 97 Iteration: 9200. Train_MSE: 0.006259613670408726. Test_MSE: 0.0001710346492946838\n",
      "Epoch: 100 Iteration: 9400. Train_MSE: 0.0004615981597453356. Test_MSE: 0.00016965821199726492\n",
      "Epoch: 102 Iteration: 9600. Train_MSE: 0.0005758564220741391. Test_MSE: 0.00017128995455203\n",
      "Epoch: 104 Iteration: 9800. Train_MSE: 0.001013341243378818. Test_MSE: 0.0001705763765107823\n",
      "Epoch: 106 Iteration: 10000. Train_MSE: 0.00037915189750492573. Test_MSE: 0.00016768717145234708\n",
      "Epoch: 108 Iteration: 10200. Train_MSE: 0.00025329942582175136. Test_MSE: 0.00016702958677685615\n",
      "Epoch: 110 Iteration: 10400. Train_MSE: 0.0006097080186009407. Test_MSE: 0.0001686179315053822\n",
      "Epoch: 112 Iteration: 10600. Train_MSE: 0.000836250139400363. Test_MSE: 0.00016845543451083492\n",
      "Epoch: 114 Iteration: 10800. Train_MSE: 0.00034835495171137154. Test_MSE: 0.00016593811717803848\n",
      "Epoch: 117 Iteration: 11000. Train_MSE: 0.005670078564435244. Test_MSE: 0.00016487900223080733\n",
      "Epoch: 119 Iteration: 11200. Train_MSE: 0.000696486618835479. Test_MSE: 0.00016675027925311443\n",
      "Epoch: 121 Iteration: 11400. Train_MSE: 0.0009939071023836732. Test_MSE: 0.00016490246793776907\n",
      "Epoch: 123 Iteration: 11600. Train_MSE: 0.0003448865609243512. Test_MSE: 0.0001628627403172456\n",
      "Epoch: 125 Iteration: 11800. Train_MSE: 0.0002284199435962364. Test_MSE: 0.0001622915206188848\n",
      "Epoch: 127 Iteration: 12000. Train_MSE: 0.00045909351320005953. Test_MSE: 0.00016403119800244663\n",
      "Epoch: 129 Iteration: 12200. Train_MSE: 0.0017296320293098688. Test_MSE: 0.00016295230161960533\n",
      "Epoch: 131 Iteration: 12400. Train_MSE: 0.00023355735174845904. Test_MSE: 0.00016126779707995072\n",
      "Epoch: 134 Iteration: 12600. Train_MSE: 0.00032667096820659935. Test_MSE: 0.00016042194345418056\n",
      "Epoch: 136 Iteration: 12800. Train_MSE: 0.0005672997795045376. Test_MSE: 0.0001622860934188663\n",
      "Epoch: 138 Iteration: 13000. Train_MSE: 0.001143996836617589. Test_MSE: 0.000159584713556454\n",
      "Epoch: 140 Iteration: 13200. Train_MSE: 0.00023939325183164328. Test_MSE: 0.00015858543869568483\n",
      "Epoch: 142 Iteration: 13400. Train_MSE: 0.0002848426520358771. Test_MSE: 0.000157812358581006\n",
      "Epoch: 144 Iteration: 13600. Train_MSE: 0.015839261934161186. Test_MSE: 0.00015990593661896566\n",
      "Epoch: 146 Iteration: 13800. Train_MSE: 0.003788647009059787. Test_MSE: 0.0001579081117037431\n",
      "Epoch: 148 Iteration: 14000. Train_MSE: 0.00019752005755435675. Test_MSE: 0.0001568412651966818\n",
      "Epoch: 151 Iteration: 14200. Train_MSE: 0.00030752396560274065. Test_MSE: 0.00015605653668339468\n",
      "Epoch: 153 Iteration: 14400. Train_MSE: 0.0024816738441586494. Test_MSE: 0.0001578790319119117\n",
      "Epoch: 155 Iteration: 14600. Train_MSE: 0.0008468478918075562. Test_MSE: 0.0001546161369437735\n",
      "Epoch: 157 Iteration: 14800. Train_MSE: 0.0003088081139139831. Test_MSE: 0.000154221448905657\n",
      "Epoch: 159 Iteration: 15000. Train_MSE: 0.00034881383180618286. Test_MSE: 0.00015351243255576122\n",
      "Epoch: 161 Iteration: 15200. Train_MSE: 0.0011765101226046681. Test_MSE: 0.00015546986774623154\n",
      "Epoch: 163 Iteration: 15400. Train_MSE: 0.0004345386987552047. Test_MSE: 0.00015312566355799392\n",
      "Epoch: 165 Iteration: 15600. Train_MSE: 0.00027915381360799074. Test_MSE: 0.00015237254959352806\n",
      "Epoch: 168 Iteration: 15800. Train_MSE: 0.0008347710245288908. Test_MSE: 0.00015208273137608212\n",
      "Epoch: 170 Iteration: 16000. Train_MSE: 0.0008527906029485166. Test_MSE: 0.00015326289402331744\n",
      "Epoch: 172 Iteration: 16200. Train_MSE: 0.0006223215023055673. Test_MSE: 0.00015016774772543684\n",
      "Epoch: 174 Iteration: 16400. Train_MSE: 0.0002948403125628829. Test_MSE: 0.00014972136996051837\n",
      "Epoch: 176 Iteration: 16600. Train_MSE: 0.0005641860770992935. Test_MSE: 0.00014955499511646074\n",
      "Epoch: 178 Iteration: 16800. Train_MSE: 0.0009355319198220968. Test_MSE: 0.00015121391989520586\n",
      "Epoch: 180 Iteration: 17000. Train_MSE: 0.0007345998892560601. Test_MSE: 0.0001486625002184366\n",
      "Epoch: 182 Iteration: 17200. Train_MSE: 0.0003218084166292101. Test_MSE: 0.0001479576501701713\n"
     ]
    },
    {
     "name": "stdout",
     "output_type": "stream",
     "text": [
      "Epoch: 185 Iteration: 17400. Train_MSE: 0.00047748986980877817. Test_MSE: 0.00014839914535855122\n",
      "Epoch: 187 Iteration: 17600. Train_MSE: 0.0008791164145804942. Test_MSE: 0.00014855636466520937\n",
      "Epoch: 189 Iteration: 17800. Train_MSE: 0.0030629578977823257. Test_MSE: 0.0001461055053462806\n",
      "Epoch: 191 Iteration: 18000. Train_MSE: 0.00023496814537793398. Test_MSE: 0.00014538136880705964\n",
      "Epoch: 193 Iteration: 18200. Train_MSE: 0.0006216287147253752. Test_MSE: 0.00014604645760830332\n",
      "Epoch: 195 Iteration: 18400. Train_MSE: 0.0006228921702131629. Test_MSE: 0.0001470349447145236\n",
      "Epoch: 197 Iteration: 18600. Train_MSE: 0.005987004842609167. Test_MSE: 0.00014486123623686948\n",
      "Epoch: 200 Iteration: 18800. Train_MSE: 0.000549071584828198. Test_MSE: 0.0001434855721127908\n",
      "Epoch: 202 Iteration: 19000. Train_MSE: 0.0003588499967008829. Test_MSE: 0.00014470878819336942\n",
      "Epoch: 204 Iteration: 19200. Train_MSE: 0.0008894081693142653. Test_MSE: 0.0001443823409586024\n",
      "Epoch: 206 Iteration: 19400. Train_MSE: 0.0002636260469444096. Test_MSE: 0.00014219256890547806\n",
      "Epoch: 208 Iteration: 19600. Train_MSE: 0.00023327443341258913. Test_MSE: 0.00014130771392520893\n",
      "Epoch: 210 Iteration: 19800. Train_MSE: 0.00041692506056278944. Test_MSE: 0.00014256456036595413\n",
      "Epoch: 212 Iteration: 20000. Train_MSE: 0.0007243573782034218. Test_MSE: 0.00014283412063893831\n",
      "Epoch: 214 Iteration: 20200. Train_MSE: 0.00025691353948786855. Test_MSE: 0.0001408885367712651\n",
      "Epoch: 217 Iteration: 20400. Train_MSE: 0.005595158785581589. Test_MSE: 0.00013977032040912442\n",
      "Epoch: 219 Iteration: 20600. Train_MSE: 0.000489894300699234. Test_MSE: 0.00014127039217641993\n",
      "Epoch: 221 Iteration: 20800. Train_MSE: 0.0007606238941662014. Test_MSE: 0.00013992097847867203\n",
      "Epoch: 223 Iteration: 21000. Train_MSE: 0.0002932195202447474. Test_MSE: 0.00013839035557290433\n",
      "Epoch: 225 Iteration: 21200. Train_MSE: 0.00017593911616131663. Test_MSE: 0.00013756567671846523\n",
      "Epoch: 227 Iteration: 21400. Train_MSE: 0.00031508420943282545. Test_MSE: 0.00013904755643248545\n",
      "Epoch: 229 Iteration: 21600. Train_MSE: 0.0014210783410817385. Test_MSE: 0.0001385008198879139\n",
      "Epoch: 231 Iteration: 21800. Train_MSE: 0.00017648711218498647. Test_MSE: 0.00013722985568655674\n",
      "Epoch: 234 Iteration: 22000. Train_MSE: 0.00022097949113231152. Test_MSE: 0.00013624623778037118\n",
      "Epoch: 236 Iteration: 22200. Train_MSE: 0.0004597178485710174. Test_MSE: 0.0001378496410244464\n",
      "Epoch: 238 Iteration: 22400. Train_MSE: 0.0009941081516444683. Test_MSE: 0.0001357486193229809\n",
      "Epoch: 240 Iteration: 22600. Train_MSE: 0.00020290090469643474. Test_MSE: 0.0001350931602310504\n",
      "Epoch: 242 Iteration: 22800. Train_MSE: 0.0002064790896838531. Test_MSE: 0.00013407199845992158\n",
      "Epoch: 244 Iteration: 23000. Train_MSE: 0.015469620004296303. Test_MSE: 0.00013600489543614963\n",
      "Epoch: 246 Iteration: 23200. Train_MSE: 0.0036793844774365425. Test_MSE: 0.00013459928489868267\n",
      "Epoch: 248 Iteration: 23400. Train_MSE: 0.00014493447088170797. Test_MSE: 0.00013376549650788902\n",
      "Epoch: 251 Iteration: 23600. Train_MSE: 0.00022363252355717123. Test_MSE: 0.0001328342754085081\n",
      "Epoch: 253 Iteration: 23800. Train_MSE: 0.0023811724968254566. Test_MSE: 0.0001345070102289652\n",
      "Epoch: 255 Iteration: 24000. Train_MSE: 0.000680008321069181. Test_MSE: 0.00013188438961264087\n",
      "Epoch: 257 Iteration: 24200. Train_MSE: 0.00024930419749580324. Test_MSE: 0.00013168742783146306\n",
      "Epoch: 259 Iteration: 24400. Train_MSE: 0.00024936272529885173. Test_MSE: 0.00013076586722744732\n",
      "Epoch: 261 Iteration: 24600. Train_MSE: 0.0011258419835940003. Test_MSE: 0.00013264348784476892\n",
      "Epoch: 263 Iteration: 24800. Train_MSE: 0.0003723858972080052. Test_MSE: 0.00013085458762468322\n",
      "Epoch: 265 Iteration: 25000. Train_MSE: 0.00022334896493703127. Test_MSE: 0.0001302951219730501\n",
      "Epoch: 268 Iteration: 25200. Train_MSE: 0.0006900526350364089. Test_MSE: 0.00012980190183760934\n",
      "Epoch: 270 Iteration: 25400. Train_MSE: 0.0007582378457300365. Test_MSE: 0.00013096748987243605\n",
      "Epoch: 272 Iteration: 25600. Train_MSE: 0.0005503165884874761. Test_MSE: 0.00012843496805758702\n",
      "Epoch: 274 Iteration: 25800. Train_MSE: 0.0002719218609854579. Test_MSE: 0.00012812251902063215\n",
      "Epoch: 276 Iteration: 26000. Train_MSE: 0.00041703053284436464. Test_MSE: 0.00012774357010486033\n",
      "Epoch: 278 Iteration: 26200. Train_MSE: 0.0008368423441424966. Test_MSE: 0.00012941389213660002\n",
      "Epoch: 280 Iteration: 26400. Train_MSE: 0.0006659266073256731. Test_MSE: 0.00012736218877555086\n",
      "Epoch: 282 Iteration: 26600. Train_MSE: 0.0002848627045750618. Test_MSE: 0.000126806002090863\n",
      "Epoch: 285 Iteration: 26800. Train_MSE: 0.0003542958293110132. Test_MSE: 0.0001270010120408928\n",
      "Epoch: 287 Iteration: 27000. Train_MSE: 0.0007607965962961316. Test_MSE: 0.00012729615564822556\n",
      "Epoch: 289 Iteration: 27200. Train_MSE: 0.0030188383534550667. Test_MSE: 0.000125334489592295\n",
      "Epoch: 291 Iteration: 27400. Train_MSE: 0.00021030475909356028. Test_MSE: 0.00012465750669524338\n",
      "Epoch: 293 Iteration: 27600. Train_MSE: 0.000491559796500951. Test_MSE: 0.00012510275661091496\n",
      "Epoch: 295 Iteration: 27800. Train_MSE: 0.0005643527256324887. Test_MSE: 0.00012621641569245055\n",
      "Epoch: 297 Iteration: 28000. Train_MSE: 0.005845906212925911. Test_MSE: 0.00012447190706252415\n",
      "Epoch: 300 Iteration: 28200. Train_MSE: 0.0005652890540659428. Test_MSE: 0.0001232067402067606\n",
      "Epoch: 302 Iteration: 28400. Train_MSE: 0.0002580961736384779. Test_MSE: 0.00012417430649274886\n",
      "Epoch: 304 Iteration: 28600. Train_MSE: 0.0008313903235830367. Test_MSE: 0.00012404768352469308\n",
      "Epoch: 306 Iteration: 28800. Train_MSE: 0.0002071857888950035. Test_MSE: 0.00012232991897333982\n",
      "Epoch: 308 Iteration: 29000. Train_MSE: 0.00021817261585965753. Test_MSE: 0.00012141986771374902\n",
      "Epoch: 310 Iteration: 29200. Train_MSE: 0.0003054667031392455. Test_MSE: 0.0001224561979139073\n",
      "Epoch: 312 Iteration: 29400. Train_MSE: 0.0006696444470435381. Test_MSE: 0.00012293230809541758\n",
      "Epoch: 314 Iteration: 29600. Train_MSE: 0.00021008713520132005. Test_MSE: 0.00012137508680646905\n",
      "Epoch: 317 Iteration: 29800. Train_MSE: 0.005550112575292587. Test_MSE: 0.00012032851667585626\n",
      "Epoch: 319 Iteration: 30000. Train_MSE: 0.0003762765263672918. Test_MSE: 0.00012157119806728945\n",
      "Epoch: 321 Iteration: 30200. Train_MSE: 0.0006481565069407225. Test_MSE: 0.00012053265981085042\n",
      "Epoch: 323 Iteration: 30400. Train_MSE: 0.0002590073854662478. Test_MSE: 0.00011935742460033379\n",
      "Epoch: 325 Iteration: 30600. Train_MSE: 0.00015014686505310237. Test_MSE: 0.00011849049426852564\n",
      "Epoch: 327 Iteration: 30800. Train_MSE: 0.00023816351313143969. Test_MSE: 0.00011977352048017245\n",
      "Epoch: 329 Iteration: 31000. Train_MSE: 0.0012653358280658722. Test_MSE: 0.00011952518249299074\n",
      "Epoch: 331 Iteration: 31200. Train_MSE: 0.00014615785039495677. Test_MSE: 0.00011854186976496882\n",
      "Epoch: 334 Iteration: 31400. Train_MSE: 0.00016934663290157914. Test_MSE: 0.00011757428013843001\n",
      "Epoch: 336 Iteration: 31600. Train_MSE: 0.0003897285205312073. Test_MSE: 0.00011896484851833029\n",
      "Epoch: 338 Iteration: 31800. Train_MSE: 0.0009171778219752014. Test_MSE: 0.00011725500111923509\n",
      "Epoch: 340 Iteration: 32000. Train_MSE: 0.00017859395302366465. Test_MSE: 0.00011684468491429209\n",
      "Epoch: 342 Iteration: 32200. Train_MSE: 0.00015984303900040686. Test_MSE: 0.00011578025767269395\n",
      "Epoch: 344 Iteration: 32400. Train_MSE: 0.015246604569256306. Test_MSE: 0.00011754955654055622\n",
      "Epoch: 346 Iteration: 32600. Train_MSE: 0.0036311827134341. Test_MSE: 0.00011650770320621381\n",
      "Epoch: 348 Iteration: 32800. Train_MSE: 0.00011612211528699845. Test_MSE: 0.00011584800225603045\n",
      "Epoch: 351 Iteration: 33000. Train_MSE: 0.00017679893062449992. Test_MSE: 0.00011491274692596577\n",
      "Epoch: 353 Iteration: 33200. Train_MSE: 0.0023264591582119465. Test_MSE: 0.00011643452775024623\n",
      "Epoch: 355 Iteration: 33400. Train_MSE: 0.0005896846414543688. Test_MSE: 0.00011423795001256753\n",
      "Epoch: 357 Iteration: 33600. Train_MSE: 0.00020743809000123292. Test_MSE: 0.00011419568472698517\n",
      "Epoch: 359 Iteration: 33800. Train_MSE: 0.00018906431796494871. Test_MSE: 0.00011322637520389018\n",
      "Epoch: 361 Iteration: 34000. Train_MSE: 0.0010964381508529186. Test_MSE: 0.00011498381354530356\n",
      "Epoch: 363 Iteration: 34200. Train_MSE: 0.0003381394490133971. Test_MSE: 0.00011354891836016037\n",
      "Epoch: 365 Iteration: 34400. Train_MSE: 0.00018554821144789457. Test_MSE: 0.0001131426943184409\n"
     ]
    },
    {
     "name": "stdout",
     "output_type": "stream",
     "text": [
      "Epoch: 368 Iteration: 34600. Train_MSE: 0.0006049880175851285. Test_MSE: 0.0001125878807858074\n",
      "Epoch: 370 Iteration: 34800. Train_MSE: 0.0007111795130185783. Test_MSE: 0.0001136967876885512\n",
      "Epoch: 372 Iteration: 35000. Train_MSE: 0.0005110913189128041. Test_MSE: 0.00011155130086033175\n",
      "Epoch: 374 Iteration: 35200. Train_MSE: 0.00024612725246697664. Test_MSE: 0.0001113651334981994\n",
      "Epoch: 376 Iteration: 35400. Train_MSE: 0.00032817956525832415. Test_MSE: 0.00011090867043044121\n",
      "Epoch: 378 Iteration: 35600. Train_MSE: 0.0007782470202073455. Test_MSE: 0.00011252273384898755\n",
      "Epoch: 380 Iteration: 35800. Train_MSE: 0.0006279185181483626. Test_MSE: 0.00011080340338767915\n",
      "Epoch: 382 Iteration: 36000. Train_MSE: 0.00025110135902650654. Test_MSE: 0.00011038255250830048\n",
      "Epoch: 385 Iteration: 36200. Train_MSE: 0.00028257264057174325. Test_MSE: 0.00011045513666560236\n",
      "Epoch: 387 Iteration: 36400. Train_MSE: 0.0006951854447834194. Test_MSE: 0.00011080748493990708\n",
      "Epoch: 389 Iteration: 36600. Train_MSE: 0.0029897158965468407. Test_MSE: 0.00010918319961900393\n",
      "Epoch: 391 Iteration: 36800. Train_MSE: 0.0001841848570620641. Test_MSE: 0.00010859261082197422\n",
      "Epoch: 393 Iteration: 37000. Train_MSE: 0.00040584575617685914. Test_MSE: 0.0001089165001747411\n",
      "Epoch: 395 Iteration: 37200. Train_MSE: 0.000531262019649148. Test_MSE: 0.000110055444484225\n",
      "Epoch: 397 Iteration: 37400. Train_MSE: 0.00576399639248848. Test_MSE: 0.00010860849979036033\n",
      "Epoch: 400 Iteration: 37600. Train_MSE: 0.0005439299275167286. Test_MSE: 0.0001074761385959198\n",
      "Epoch: 402 Iteration: 37800. Train_MSE: 0.00020436497288756073. Test_MSE: 0.0001082820942031367\n",
      "Epoch: 404 Iteration: 38000. Train_MSE: 0.0007976056076586246. Test_MSE: 0.00010826037760292259\n",
      "Epoch: 406 Iteration: 38200. Train_MSE: 0.00017519047833047807. Test_MSE: 0.00010686742424037026\n",
      "Epoch: 408 Iteration: 38400. Train_MSE: 0.0002011599572142586. Test_MSE: 0.00010600662629177623\n",
      "Epoch: 410 Iteration: 38600. Train_MSE: 0.00023516203509643674. Test_MSE: 0.00010688895093761816\n",
      "Epoch: 412 Iteration: 38800. Train_MSE: 0.0006373106734827161. Test_MSE: 0.0001074618319127053\n",
      "Epoch: 414 Iteration: 39000. Train_MSE: 0.00018266051483806223. Test_MSE: 0.00010617684981789292\n",
      "Epoch: 417 Iteration: 39200. Train_MSE: 0.005517574492841959. Test_MSE: 0.00010523426743173861\n",
      "Epoch: 419 Iteration: 39400. Train_MSE: 0.000305456604110077. Test_MSE: 0.00010629192327033069\n",
      "Epoch: 421 Iteration: 39600. Train_MSE: 0.0005837001372128725. Test_MSE: 0.00010545223842424864\n",
      "Epoch: 423 Iteration: 39800. Train_MSE: 0.0002341555809834972. Test_MSE: 0.000104531889697683\n",
      "Epoch: 425 Iteration: 40000. Train_MSE: 0.0001315488334512338. Test_MSE: 0.00010369941636396326\n",
      "Epoch: 427 Iteration: 40200. Train_MSE: 0.0001922534720506519. Test_MSE: 0.00010482339623655357\n",
      "Epoch: 429 Iteration: 40400. Train_MSE: 0.0011736898450180888. Test_MSE: 0.00010474802469512376\n",
      "Epoch: 431 Iteration: 40600. Train_MSE: 0.00012798109673894942. Test_MSE: 0.00010397179687968318\n",
      "Epoch: 434 Iteration: 40800. Train_MSE: 0.0001382121117785573. Test_MSE: 0.00010307078466794161\n",
      "Epoch: 436 Iteration: 41000. Train_MSE: 0.00034234815393574536. Test_MSE: 0.00010429165172229227\n",
      "Epoch: 438 Iteration: 41200. Train_MSE: 0.0008708823006600142. Test_MSE: 0.00010284629216810062\n",
      "Epoch: 440 Iteration: 41400. Train_MSE: 0.00015906768385320902. Test_MSE: 0.00010261188949791782\n",
      "Epoch: 442 Iteration: 41600. Train_MSE: 0.00012913478713016957. Test_MSE: 0.0001015786926215025\n",
      "Epoch: 444 Iteration: 41800. Train_MSE: 0.015094186179339886. Test_MSE: 0.00010319884789887941\n",
      "Epoch: 446 Iteration: 42000. Train_MSE: 0.0036053648218512535. Test_MSE: 0.000102390325439289\n",
      "Epoch: 448 Iteration: 42200. Train_MSE: 9.731696627568454e-05. Test_MSE: 0.00010186483110887232\n",
      "Epoch: 451 Iteration: 42400. Train_MSE: 0.00014642675523646176. Test_MSE: 0.00010097815739920524\n",
      "Epoch: 453 Iteration: 42600. Train_MSE: 0.0022917280439287424. Test_MSE: 0.00010236695866838323\n",
      "Epoch: 455 Iteration: 42800. Train_MSE: 0.0005336364847607911. Test_MSE: 0.00010046697745205048\n",
      "Epoch: 457 Iteration: 43000. Train_MSE: 0.00017700040189083666. Test_MSE: 0.00010054465556851272\n",
      "Epoch: 459 Iteration: 43200. Train_MSE: 0.0001498374476796016. Test_MSE: 9.959150301382377e-05\n",
      "Epoch: 461 Iteration: 43400. Train_MSE: 0.0010759806027635932. Test_MSE: 0.00010122575258918281\n",
      "Epoch: 463 Iteration: 43600. Train_MSE: 0.0003169434785377234. Test_MSE: 0.00010003118379884095\n",
      "Epoch: 465 Iteration: 43800. Train_MSE: 0.00015800264372956008. Test_MSE: 9.974706046858507e-05\n",
      "Epoch: 468 Iteration: 44000. Train_MSE: 0.0005497593665495515. Test_MSE: 9.919005142261321e-05\n",
      "Epoch: 470 Iteration: 44200. Train_MSE: 0.0006835854146629572. Test_MSE: 0.00010022942509368849\n",
      "Epoch: 472 Iteration: 44400. Train_MSE: 0.00048664823407307267. Test_MSE: 9.836285557448602e-05\n",
      "Epoch: 474 Iteration: 44600. Train_MSE: 0.00022105491370894015. Test_MSE: 9.828591554429897e-05\n",
      "Epoch: 476 Iteration: 44800. Train_MSE: 0.00027001259149983525. Test_MSE: 9.780889113788328e-05\n",
      "Epoch: 478 Iteration: 45000. Train_MSE: 0.0007395595894195139. Test_MSE: 9.934486135660725e-05\n",
      "Epoch: 480 Iteration: 45200. Train_MSE: 0.0006042849854566157. Test_MSE: 9.78583437595328e-05\n",
      "Epoch: 482 Iteration: 45400. Train_MSE: 0.00022138247732073069. Test_MSE: 9.755240820271628e-05\n",
      "Epoch: 485 Iteration: 45600. Train_MSE: 0.00023634135141037405. Test_MSE: 9.756220583953721e-05\n",
      "Epoch: 487 Iteration: 45800. Train_MSE: 0.0006538552697747946. Test_MSE: 9.793280433412949e-05\n",
      "Epoch: 489 Iteration: 46000. Train_MSE: 0.0029674170073121786. Test_MSE: 9.655303821751574e-05\n",
      "Epoch: 491 Iteration: 46200. Train_MSE: 0.0001605378492968157. Test_MSE: 9.605460499481748e-05\n",
      "Epoch: 493 Iteration: 46400. Train_MSE: 0.00034506130032241344. Test_MSE: 9.630380408505786e-05\n",
      "Epoch: 495 Iteration: 46600. Train_MSE: 0.0005099182017147541. Test_MSE: 9.742391942048082e-05\n",
      "Epoch: 497 Iteration: 46800. Train_MSE: 0.005711646750569344. Test_MSE: 9.619327150855463e-05\n",
      "Epoch: 500 Iteration: 47000. Train_MSE: 0.000508270924910903. Test_MSE: 9.518459260359037e-05\n",
      "Epoch: 502 Iteration: 47200. Train_MSE: 0.0001724573812680319. Test_MSE: 9.58812484461671e-05\n",
      "Epoch: 504 Iteration: 47400. Train_MSE: 0.000774509331677109. Test_MSE: 9.592230547377909e-05\n",
      "Epoch: 506 Iteration: 47600. Train_MSE: 0.00015531810640823096. Test_MSE: 9.476680141578147e-05\n",
      "Epoch: 508 Iteration: 47800. Train_MSE: 0.00018395454389974475. Test_MSE: 9.39778288039505e-05\n",
      "Epoch: 510 Iteration: 48000. Train_MSE: 0.00018827013263944536. Test_MSE: 9.474672803628289e-05\n",
      "Epoch: 512 Iteration: 48200. Train_MSE: 0.0006154715083539486. Test_MSE: 9.536324341260774e-05\n",
      "Epoch: 514 Iteration: 48400. Train_MSE: 0.00016470909758936614. Test_MSE: 9.427892577861977e-05\n",
      "Epoch: 517 Iteration: 48600. Train_MSE: 0.0054925126023590565. Test_MSE: 9.343930268490759e-05\n",
      "Epoch: 519 Iteration: 48800. Train_MSE: 0.00025725833256728947. Test_MSE: 9.435704305914268e-05\n",
      "Epoch: 521 Iteration: 49000. Train_MSE: 0.0005421905079856515. Test_MSE: 9.36556203655337e-05\n",
      "Epoch: 523 Iteration: 49200. Train_MSE: 0.00021511847444344312. Test_MSE: 9.292345634392609e-05\n",
      "Epoch: 525 Iteration: 49400. Train_MSE: 0.00011655389243969694. Test_MSE: 9.214786711030918e-05\n",
      "Epoch: 527 Iteration: 49600. Train_MSE: 0.00016265211161226034. Test_MSE: 9.314398572255984e-05\n",
      "Epoch: 529 Iteration: 49800. Train_MSE: 0.001113753765821457. Test_MSE: 9.317345103502875e-05\n",
      "Epoch: 531 Iteration: 50000. Train_MSE: 0.00011590148642426357. Test_MSE: 9.255293712465402e-05\n",
      "Epoch: 534 Iteration: 50200. Train_MSE: 0.00011736935266526416. Test_MSE: 9.172714502236716e-05\n",
      "Epoch: 536 Iteration: 50400. Train_MSE: 0.0003092733968514949. Test_MSE: 9.281008629220258e-05\n",
      "Epoch: 538 Iteration: 50600. Train_MSE: 0.0008396629127673805. Test_MSE: 9.155845624209568e-05\n",
      "Epoch: 540 Iteration: 50800. Train_MSE: 0.00014255383575800806. Test_MSE: 9.145880364575601e-05\n",
      "Epoch: 542 Iteration: 51000. Train_MSE: 0.00010755645052995533. Test_MSE: 9.048186988950441e-05\n",
      "Epoch: 544 Iteration: 51200. Train_MSE: 0.014980116859078407. Test_MSE: 9.197135219753122e-05\n",
      "Epoch: 546 Iteration: 51400. Train_MSE: 0.003588644554838538. Test_MSE: 9.132281931265936e-05\n",
      "Epoch: 548 Iteration: 51600. Train_MSE: 8.381008956348523e-05. Test_MSE: 9.090186368173086e-05\n"
     ]
    },
    {
     "name": "stdout",
     "output_type": "stream",
     "text": [
      "Epoch: 551 Iteration: 51800. Train_MSE: 0.0001249658816959709. Test_MSE: 9.007227327946205e-05\n",
      "Epoch: 553 Iteration: 52000. Train_MSE: 0.0022668393794447184. Test_MSE: 9.134480220530002e-05\n",
      "Epoch: 555 Iteration: 52200. Train_MSE: 0.0004956212942488492. Test_MSE: 8.966341083087817e-05\n",
      "Epoch: 557 Iteration: 52400. Train_MSE: 0.00015369309403467923. Test_MSE: 8.983580303317172e-05\n",
      "Epoch: 559 Iteration: 52600. Train_MSE: 0.00012279990187380463. Test_MSE: 8.891789772195915e-05\n",
      "Epoch: 561 Iteration: 52800. Train_MSE: 0.001059984671883285. Test_MSE: 9.04366577808043e-05\n",
      "Epoch: 563 Iteration: 53000. Train_MSE: 0.0003027154307346791. Test_MSE: 8.941042910114071e-05\n",
      "Epoch: 565 Iteration: 53200. Train_MSE: 0.0001369603123748675. Test_MSE: 8.921978640892743e-05\n",
      "Epoch: 568 Iteration: 53400. Train_MSE: 0.0005115395179018378. Test_MSE: 8.86772912591499e-05\n",
      "Epoch: 570 Iteration: 53600. Train_MSE: 0.0006655212491750717. Test_MSE: 8.964660746221406e-05\n",
      "Epoch: 572 Iteration: 53800. Train_MSE: 0.0004696879186667502. Test_MSE: 8.798979509955346e-05\n",
      "Epoch: 574 Iteration: 54000. Train_MSE: 0.00019825594790745527. Test_MSE: 8.800019178120466e-05\n",
      "Epoch: 576 Iteration: 54200. Train_MSE: 0.000229670200496912. Test_MSE: 8.752320829287712e-05\n",
      "Epoch: 578 Iteration: 54400. Train_MSE: 0.0007121018134057522. Test_MSE: 8.897576561334802e-05\n",
      "Epoch: 580 Iteration: 54600. Train_MSE: 0.0005882533150725067. Test_MSE: 8.765873063550656e-05\n",
      "Epoch: 582 Iteration: 54800. Train_MSE: 0.0001957820204552263. Test_MSE: 8.744477115321106e-05\n",
      "Epoch: 585 Iteration: 55000. Train_MSE: 0.00020432665769476444. Test_MSE: 8.74178957611596e-05\n",
      "Epoch: 587 Iteration: 55200. Train_MSE: 0.000625421991571784. Test_MSE: 8.778945934848345e-05\n",
      "Epoch: 589 Iteration: 55400. Train_MSE: 0.002948838286101818. Test_MSE: 8.659470254791584e-05\n",
      "Epoch: 591 Iteration: 55600. Train_MSE: 0.00014018005458638072. Test_MSE: 8.61780910406502e-05\n",
      "Epoch: 593 Iteration: 55800. Train_MSE: 0.00029968342278152704. Test_MSE: 8.637504842534856e-05\n",
      "Epoch: 595 Iteration: 56000. Train_MSE: 0.0004949826397933066. Test_MSE: 8.74565199721882e-05\n",
      "Epoch: 597 Iteration: 56200. Train_MSE: 0.0056754774414002895. Test_MSE: 8.63902584786933e-05\n",
      "Epoch: 600 Iteration: 56400. Train_MSE: 0.00046899632434360683. Test_MSE: 8.548897879427075e-05\n",
      "Epoch: 602 Iteration: 56600. Train_MSE: 0.00015199501649476588. Test_MSE: 8.610415256161486e-05\n",
      "Epoch: 604 Iteration: 56800. Train_MSE: 0.0007568677538074553. Test_MSE: 8.617911307372504e-05\n",
      "Epoch: 606 Iteration: 57000. Train_MSE: 0.00014199457655195147. Test_MSE: 8.520096105334683e-05\n",
      "Epoch: 608 Iteration: 57200. Train_MSE: 0.0001677397667663172. Test_MSE: 8.448178602041457e-05\n",
      "Epoch: 610 Iteration: 57400. Train_MSE: 0.0001556312490720302. Test_MSE: 8.515897104382937e-05\n",
      "Epoch: 612 Iteration: 57600. Train_MSE: 0.0005991614889353514. Test_MSE: 8.578990837520547e-05\n",
      "Epoch: 614 Iteration: 57800. Train_MSE: 0.00015200894267763942. Test_MSE: 8.485754140476164e-05\n",
      "Epoch: 617 Iteration: 58000. Train_MSE: 0.0054726735688745975. Test_MSE: 8.410719303762969e-05\n",
      "Epoch: 619 Iteration: 58200. Train_MSE: 0.00022258347598835826. Test_MSE: 8.491146126306952e-05\n",
      "Epoch: 621 Iteration: 58400. Train_MSE: 0.0005129124619998038. Test_MSE: 8.430759400804496e-05\n",
      "Epoch: 623 Iteration: 58600. Train_MSE: 0.0002000797539949417. Test_MSE: 8.372077954432071e-05\n",
      "Epoch: 625 Iteration: 58800. Train_MSE: 0.00010388985538156703. Test_MSE: 8.300388920373036e-05\n",
      "Epoch: 627 Iteration: 59000. Train_MSE: 0.0001423098728992045. Test_MSE: 8.389043391022321e-05\n",
      "Epoch: 629 Iteration: 59200. Train_MSE: 0.0010713401716202497. Test_MSE: 8.39861174146467e-05\n",
      "Epoch: 631 Iteration: 59400. Train_MSE: 0.00010694394586607814. Test_MSE: 8.348551992462748e-05\n",
      "Epoch: 634 Iteration: 59600. Train_MSE: 0.00010268655751133338. Test_MSE: 8.272864336047894e-05\n",
      "Epoch: 636 Iteration: 59800. Train_MSE: 0.00028537280741147697. Test_MSE: 8.369235599043125e-05\n",
      "Epoch: 638 Iteration: 60000. Train_MSE: 0.0008168851491063833. Test_MSE: 8.258497547878834e-05\n",
      "Epoch: 640 Iteration: 60200. Train_MSE: 0.00012827622413169593. Test_MSE: 8.258881944833811e-05\n",
      "Epoch: 642 Iteration: 60400. Train_MSE: 9.171471901936457e-05. Test_MSE: 8.167028230226163e-05\n",
      "Epoch: 644 Iteration: 60600. Train_MSE: 0.014889504760503769. Test_MSE: 8.304212236832636e-05\n",
      "Epoch: 646 Iteration: 60800. Train_MSE: 0.0035761171020567417. Test_MSE: 8.250622978479391e-05\n",
      "Epoch: 648 Iteration: 61000. Train_MSE: 7.35807916498743e-05. Test_MSE: 8.216744473255059e-05\n",
      "Epoch: 651 Iteration: 61200. Train_MSE: 0.0001093843238777481. Test_MSE: 8.139368361873005e-05\n",
      "Epoch: 653 Iteration: 61400. Train_MSE: 0.0022474327124655247. Test_MSE: 8.256259900375194e-05\n",
      "Epoch: 655 Iteration: 61600. Train_MSE: 0.00046802934957668185. Test_MSE: 8.10465865329207e-05\n",
      "Epoch: 657 Iteration: 61800. Train_MSE: 0.0001350727688986808. Test_MSE: 8.129437420677437e-05\n",
      "Epoch: 659 Iteration: 62000. Train_MSE: 0.00010339028085581958. Test_MSE: 8.041452506389248e-05\n",
      "Epoch: 661 Iteration: 62200. Train_MSE: 0.0010464886436238885. Test_MSE: 8.182316200478638e-05\n",
      "Epoch: 663 Iteration: 62400. Train_MSE: 0.00029253269894979894. Test_MSE: 8.091876425533134e-05\n",
      "Epoch: 665 Iteration: 62600. Train_MSE: 0.00012049015640513971. Test_MSE: 8.080213855272258e-05\n",
      "Epoch: 668 Iteration: 62800. Train_MSE: 0.0004835871222894639. Test_MSE: 8.028117938304397e-05\n",
      "Epoch: 670 Iteration: 63000. Train_MSE: 0.0006526205688714981. Test_MSE: 8.118142509704754e-05\n",
      "Epoch: 672 Iteration: 63200. Train_MSE: 0.0004569123557303101. Test_MSE: 7.968639290523333e-05\n",
      "Epoch: 674 Iteration: 63400. Train_MSE: 0.00017797676264308393. Test_MSE: 7.976768471135073e-05\n",
      "Epoch: 676 Iteration: 63600. Train_MSE: 0.00020050941384397447. Test_MSE: 7.929765978468222e-05\n",
      "Epoch: 678 Iteration: 63800. Train_MSE: 0.0006913372199051082. Test_MSE: 8.066446323788659e-05\n",
      "Epoch: 680 Iteration: 64000. Train_MSE: 0.0005766490940004587. Test_MSE: 7.947541456967904e-05\n",
      "Epoch: 682 Iteration: 64200. Train_MSE: 0.00017374420713167638. Test_MSE: 7.933577483143778e-05\n",
      "Epoch: 685 Iteration: 64400. Train_MSE: 0.00018096016719937325. Test_MSE: 7.928375043686252e-05\n",
      "Epoch: 687 Iteration: 64600. Train_MSE: 0.0006045176996849477. Test_MSE: 7.964309903239475e-05\n",
      "Epoch: 689 Iteration: 64800. Train_MSE: 0.002932553878054023. Test_MSE: 7.859221700298064e-05\n",
      "Epoch: 691 Iteration: 65000. Train_MSE: 0.000122799989185296. Test_MSE: 7.824767112344661e-05\n",
      "Epoch: 693 Iteration: 65200. Train_MSE: 0.0002646057109814137. Test_MSE: 7.840576911217353e-05\n",
      "Epoch: 695 Iteration: 65400. Train_MSE: 0.0004838973400183022. Test_MSE: 7.943794741824038e-05\n",
      "Epoch: 697 Iteration: 65600. Train_MSE: 0.005648698192089796. Test_MSE: 7.849889352558606e-05\n",
      "Epoch: 700 Iteration: 65800. Train_MSE: 0.0004302404122427106. Test_MSE: 7.768586974304194e-05\n",
      "Epoch: 702 Iteration: 66000. Train_MSE: 0.0001378870365442708. Test_MSE: 7.823403276702077e-05\n",
      "Epoch: 704 Iteration: 66200. Train_MSE: 0.0007424841169267893. Test_MSE: 7.832616598231289e-05\n",
      "Epoch: 706 Iteration: 66400. Train_MSE: 0.00013262011634651572. Test_MSE: 7.748749627351561e-05\n",
      "Epoch: 708 Iteration: 66600. Train_MSE: 0.00015287358837667853. Test_MSE: 7.683357833021891e-05\n",
      "Epoch: 710 Iteration: 66800. Train_MSE: 0.00013218056119512767. Test_MSE: 7.743316437169475e-05\n",
      "Epoch: 712 Iteration: 67000. Train_MSE: 0.0005862094112671912. Test_MSE: 7.806146973347936e-05\n",
      "Epoch: 714 Iteration: 67200. Train_MSE: 0.000142509990837425. Test_MSE: 7.724889614148567e-05\n",
      "Epoch: 717 Iteration: 67400. Train_MSE: 0.005456805694848299. Test_MSE: 7.657654774210353e-05\n",
      "Epoch: 719 Iteration: 67600. Train_MSE: 0.00019664836872834712. Test_MSE: 7.728602723015116e-05\n",
      "Epoch: 721 Iteration: 67800. Train_MSE: 0.0004909736453555524. Test_MSE: 7.675508374175824e-05\n",
      "Epoch: 723 Iteration: 68000. Train_MSE: 0.00018795560754369944. Test_MSE: 7.628455857204759e-05\n",
      "Epoch: 725 Iteration: 68200. Train_MSE: 9.318657248513773e-05. Test_MSE: 7.562489026132666e-05\n",
      "Epoch: 727 Iteration: 68400. Train_MSE: 0.0001277434203075245. Test_MSE: 7.641555981398275e-05\n",
      "Epoch: 729 Iteration: 68600. Train_MSE: 0.001039643306285143. Test_MSE: 7.655104934274779e-05\n",
      "Epoch: 731 Iteration: 68800. Train_MSE: 0.00010027424286818132. Test_MSE: 7.6146872459225e-05\n",
      "Epoch: 734 Iteration: 69000. Train_MSE: 9.20201709959656e-05. Test_MSE: 7.545227021251765e-05\n"
     ]
    },
    {
     "name": "stdout",
     "output_type": "stream",
     "text": [
      "Epoch: 736 Iteration: 69200. Train_MSE: 0.0002677055017556995. Test_MSE: 7.631211566381854e-05\n",
      "Epoch: 738 Iteration: 69400. Train_MSE: 0.0007991177844814956. Test_MSE: 7.531782930452175e-05\n",
      "Epoch: 740 Iteration: 69600. Train_MSE: 0.00011602326412685215. Test_MSE: 7.540396298772676e-05\n",
      "Epoch: 742 Iteration: 69800. Train_MSE: 7.965280383359641e-05. Test_MSE: 7.454265024794026e-05\n",
      "Epoch: 744 Iteration: 70000. Train_MSE: 0.014814048074185848. Test_MSE: 7.580930978469439e-05\n",
      "Epoch: 746 Iteration: 70200. Train_MSE: 0.0035657070111483335. Test_MSE: 7.535557143594803e-05\n",
      "Epoch: 748 Iteration: 70400. Train_MSE: 6.560208566952497e-05. Test_MSE: 7.508436603344376e-05\n",
      "Epoch: 751 Iteration: 70600. Train_MSE: 9.726555435918272e-05. Test_MSE: 7.436175839031135e-05\n",
      "Epoch: 753 Iteration: 70800. Train_MSE: 0.0022313210647553205. Test_MSE: 7.543804018422217e-05\n",
      "Epoch: 755 Iteration: 71000. Train_MSE: 0.0004472015716601163. Test_MSE: 7.405407001770219e-05\n",
      "Epoch: 757 Iteration: 71200. Train_MSE: 0.00011987007019342855. Test_MSE: 7.436316168640913e-05\n",
      "Epoch: 759 Iteration: 71400. Train_MSE: 8.892597543308511e-05. Test_MSE: 7.352670194812472e-05\n",
      "Epoch: 761 Iteration: 71600. Train_MSE: 0.0010344929760321975. Test_MSE: 7.483833741466755e-05\n",
      "Epoch: 763 Iteration: 71800. Train_MSE: 0.0002850042365025729. Test_MSE: 7.403082202299131e-05\n",
      "Epoch: 765 Iteration: 72000. Train_MSE: 0.00010703873704187572. Test_MSE: 7.397733426239721e-05\n",
      "Epoch: 768 Iteration: 72200. Train_MSE: 0.0004624356224667281. Test_MSE: 7.348201463986297e-05\n",
      "Epoch: 770 Iteration: 72400. Train_MSE: 0.0006427697371691465. Test_MSE: 7.431790040828779e-05\n",
      "Epoch: 772 Iteration: 72600. Train_MSE: 0.0004466994432732463. Test_MSE: 7.295777076477348e-05\n",
      "Epoch: 774 Iteration: 72800. Train_MSE: 0.00016022725321818143. Test_MSE: 7.309923212263376e-05\n",
      "Epoch: 776 Iteration: 73000. Train_MSE: 0.00017875974299386144. Test_MSE: 7.264193507240184e-05\n",
      "Epoch: 778 Iteration: 73200. Train_MSE: 0.0006749017629772425. Test_MSE: 7.392995134319674e-05\n",
      "Epoch: 780 Iteration: 73400. Train_MSE: 0.0005678316811099648. Test_MSE: 7.284314271313022e-05\n",
      "Epoch: 782 Iteration: 73600. Train_MSE: 0.0001548438740428537. Test_MSE: 7.2765011552105e-05\n",
      "Epoch: 785 Iteration: 73800. Train_MSE: 0.00016319444694090635. Test_MSE: 7.269584173550074e-05\n",
      "Epoch: 787 Iteration: 74000. Train_MSE: 0.0005884008714929223. Test_MSE: 7.303847459359048e-05\n",
      "Epoch: 789 Iteration: 74200. Train_MSE: 0.0029180378187447786. Test_MSE: 7.210539722049013e-05\n",
      "Epoch: 791 Iteration: 74400. Train_MSE: 0.00010810173262143508. Test_MSE: 7.182364478383552e-05\n",
      "Epoch: 793 Iteration: 74600. Train_MSE: 0.00023682095343247056. Test_MSE: 7.194966990347896e-05\n",
      "Epoch: 795 Iteration: 74800. Train_MSE: 0.00047534587793052197. Test_MSE: 7.293141672683896e-05\n",
      "Epoch: 797 Iteration: 75000. Train_MSE: 0.005627989768981934. Test_MSE: 7.209704002229685e-05\n",
      "Epoch: 800 Iteration: 75200. Train_MSE: 0.000394241651520133. Test_MSE: 7.136170739917271e-05\n",
      "Epoch: 802 Iteration: 75400. Train_MSE: 0.0001278281706618145. Test_MSE: 7.185484469272197e-05\n",
      "Epoch: 804 Iteration: 75600. Train_MSE: 0.0007302735466510057. Test_MSE: 7.19560139281464e-05\n",
      "Epoch: 806 Iteration: 75800. Train_MSE: 0.00012574777065310627. Test_MSE: 7.123060204152665e-05\n",
      "Epoch: 808 Iteration: 76000. Train_MSE: 0.00013980759831611067. Test_MSE: 7.06353370457523e-05\n",
      "Epoch: 810 Iteration: 76200. Train_MSE: 0.00011482953414088115. Test_MSE: 7.116715154916682e-05\n",
      "Epoch: 812 Iteration: 76400. Train_MSE: 0.0005754531011916697. Test_MSE: 7.17857554294345e-05\n",
      "Epoch: 814 Iteration: 76600. Train_MSE: 0.00013516050239559263. Test_MSE: 7.107200160801312e-05\n",
      "Epoch: 817 Iteration: 76800. Train_MSE: 0.005443905014544725. Test_MSE: 7.046685737544045e-05\n",
      "Epoch: 819 Iteration: 77000. Train_MSE: 0.00017677828145679086. Test_MSE: 7.10931199375025e-05\n",
      "Epoch: 821 Iteration: 77200. Train_MSE: 0.00047372339759022. Test_MSE: 7.061978122571285e-05\n",
      "Epoch: 823 Iteration: 77400. Train_MSE: 0.00017796942847780883. Test_MSE: 7.02451491548838e-05\n",
      "Epoch: 825 Iteration: 77600. Train_MSE: 8.419960795436054e-05. Test_MSE: 6.963777439530253e-05\n",
      "Epoch: 827 Iteration: 77800. Train_MSE: 0.00011697910667862743. Test_MSE: 7.034370950305634e-05\n",
      "Epoch: 829 Iteration: 78000. Train_MSE: 0.0010148159926757216. Test_MSE: 7.050720168574363e-05\n",
      "Epoch: 831 Iteration: 78200. Train_MSE: 9.509808296570554e-05. Test_MSE: 7.018317582294942e-05\n",
      "Epoch: 834 Iteration: 78400. Train_MSE: 8.427618740824983e-05. Test_MSE: 6.954315032053295e-05\n",
      "Epoch: 836 Iteration: 78600. Train_MSE: 0.00025434617418795824. Test_MSE: 7.031032766470659e-05\n",
      "Epoch: 838 Iteration: 78800. Train_MSE: 0.0007845708169043064. Test_MSE: 6.940836998914808e-05\n",
      "Epoch: 840 Iteration: 79000. Train_MSE: 0.00010569226287771016. Test_MSE: 6.956144353694451e-05\n",
      "Epoch: 842 Iteration: 79200. Train_MSE: 7.026678213151172e-05. Test_MSE: 6.87525141159132e-05\n",
      "Epoch: 844 Iteration: 79400. Train_MSE: 0.014750003814697266. Test_MSE: 6.992275682333947e-05\n",
      "Epoch: 846 Iteration: 79600. Train_MSE: 0.0035566813312470913. Test_MSE: 6.953230701301675e-05\n",
      "Epoch: 848 Iteration: 79800. Train_MSE: 5.9194513596594334e-05. Test_MSE: 6.931666469280415e-05\n",
      "Epoch: 851 Iteration: 80000. Train_MSE: 8.768751285970211e-05. Test_MSE: 6.863879395535173e-05\n",
      "Epoch: 853 Iteration: 80200. Train_MSE: 0.0022176066413521767. Test_MSE: 6.963094417720674e-05\n",
      "Epoch: 855 Iteration: 80400. Train_MSE: 0.00043067161459475756. Test_MSE: 6.8355200866844e-05\n",
      "Epoch: 857 Iteration: 80600. Train_MSE: 0.0001072060113074258. Test_MSE: 6.871380071486204e-05\n",
      "Epoch: 859 Iteration: 80800. Train_MSE: 7.779601583024487e-05. Test_MSE: 6.791503250246352e-05\n",
      "Epoch: 861 Iteration: 81000. Train_MSE: 0.0010238259565085173. Test_MSE: 6.91349718886646e-05\n",
      "Epoch: 863 Iteration: 81200. Train_MSE: 0.0002791305014397949. Test_MSE: 6.8402103890167e-05\n",
      "Epoch: 865 Iteration: 81400. Train_MSE: 9.585693624103442e-05. Test_MSE: 6.839794132268606e-05\n",
      "Epoch: 868 Iteration: 81600. Train_MSE: 0.00044597394298762083. Test_MSE: 6.792452440826462e-05\n",
      "Epoch: 870 Iteration: 81800. Train_MSE: 0.0006349316099658608. Test_MSE: 6.869823900969719e-05\n",
      "Epoch: 872 Iteration: 82000. Train_MSE: 0.00043835188262164593. Test_MSE: 6.744871010709634e-05\n",
      "Epoch: 874 Iteration: 82200. Train_MSE: 0.00014477271179202944. Test_MSE: 6.763865561980993e-05\n",
      "Epoch: 876 Iteration: 82400. Train_MSE: 0.00016205385327339172. Test_MSE: 6.719319796516292e-05\n",
      "Epoch: 878 Iteration: 82600. Train_MSE: 0.000661479018162936. Test_MSE: 6.8403696628066e-05\n",
      "Epoch: 880 Iteration: 82800. Train_MSE: 0.0005608558421954513. Test_MSE: 6.739958402821173e-05\n",
      "Epoch: 882 Iteration: 83000. Train_MSE: 0.00013860579929314554. Test_MSE: 6.737257343087065e-05\n",
      "Epoch: 885 Iteration: 83200. Train_MSE: 0.00014935634681023657. Test_MSE: 6.728958151008722e-05\n",
      "Epoch: 887 Iteration: 83400. Train_MSE: 0.000575567944906652. Test_MSE: 6.761188495951984e-05\n",
      "Epoch: 889 Iteration: 83600. Train_MSE: 0.002905094064772129. Test_MSE: 6.677590588584106e-05\n",
      "Epoch: 891 Iteration: 83800. Train_MSE: 9.565005166223273e-05. Test_MSE: 6.65485563359503e-05\n",
      "Epoch: 893 Iteration: 84000. Train_MSE: 0.00021430914057418704. Test_MSE: 6.664612212006952e-05\n",
      "Epoch: 895 Iteration: 84200. Train_MSE: 0.00046856957487761974. Test_MSE: 6.757605146639487e-05\n",
      "Epoch: 897 Iteration: 84400. Train_MSE: 0.005611447151750326. Test_MSE: 6.68283413322652e-05\n",
      "Epoch: 900 Iteration: 84600. Train_MSE: 0.00036148197250440717. Test_MSE: 6.615798308614413e-05\n",
      "Epoch: 902 Iteration: 84800. Train_MSE: 0.00012036931730108336. Test_MSE: 6.660211661573875e-05\n",
      "Epoch: 904 Iteration: 85000. Train_MSE: 0.0007196423248387873. Test_MSE: 6.670514134690775e-05\n",
      "Epoch: 906 Iteration: 85200. Train_MSE: 0.00012056664854753762. Test_MSE: 6.607338155204528e-05\n",
      "Epoch: 908 Iteration: 85400. Train_MSE: 0.00012825072917621583. Test_MSE: 6.55308594750935e-05\n",
      "Epoch: 910 Iteration: 85600. Train_MSE: 0.00010177173680858687. Test_MSE: 6.600171584706249e-05\n",
      "Epoch: 912 Iteration: 85800. Train_MSE: 0.0005662685725837946. Test_MSE: 6.660392776055436e-05\n",
      "Epoch: 914 Iteration: 86000. Train_MSE: 0.0001293413806706667. Test_MSE: 6.597148605506005e-05\n",
      "Epoch: 917 Iteration: 86200. Train_MSE: 0.0054333931766450405. Test_MSE: 6.542284831725441e-05\n",
      "Epoch: 919 Iteration: 86400. Train_MSE: 0.00016128532297443599. Test_MSE: 6.597697998134226e-05\n"
     ]
    },
    {
     "name": "stdout",
     "output_type": "stream",
     "text": [
      "Epoch: 921 Iteration: 86600. Train_MSE: 0.0004597286751959473. Test_MSE: 6.554915074240774e-05\n",
      "Epoch: 923 Iteration: 86800. Train_MSE: 0.0001696861145319417. Test_MSE: 6.525497442180618e-05\n",
      "Epoch: 925 Iteration: 87000. Train_MSE: 7.67868768889457e-05. Test_MSE: 6.469398403084516e-05\n",
      "Epoch: 927 Iteration: 87200. Train_MSE: 0.00010888018732657656. Test_MSE: 6.532164989108629e-05\n",
      "Epoch: 929 Iteration: 87400. Train_MSE: 0.000994760193862021. Test_MSE: 6.550225105744531e-05\n",
      "Epoch: 931 Iteration: 87600. Train_MSE: 9.094989945879206e-05. Test_MSE: 6.524418733086344e-05\n",
      "Epoch: 934 Iteration: 87800. Train_MSE: 7.844912761356682e-05. Test_MSE: 6.465149295390305e-05\n",
      "Epoch: 936 Iteration: 88000. Train_MSE: 0.00024403404677286744. Test_MSE: 6.53355922488896e-05\n",
      "Epoch: 938 Iteration: 88200. Train_MSE: 0.0007722990121692419. Test_MSE: 6.451009614480386e-05\n",
      "Epoch: 940 Iteration: 88400. Train_MSE: 9.685334953246638e-05. Test_MSE: 6.471757122663804e-05\n",
      "Epoch: 942 Iteration: 88600. Train_MSE: 6.298435619100928e-05. Test_MSE: 6.395576916722212e-05\n",
      "Epoch: 944 Iteration: 88800. Train_MSE: 0.014694422483444214. Test_MSE: 6.503806246919003e-05\n",
      "Epoch: 946 Iteration: 89000. Train_MSE: 0.0035485585685819387. Test_MSE: 6.469779300853565e-05\n",
      "Epoch: 948 Iteration: 89200. Train_MSE: 5.40292494406458e-05. Test_MSE: 6.452844531210673e-05\n",
      "Epoch: 951 Iteration: 89400. Train_MSE: 8.011408499442041e-05. Test_MSE: 6.389090493033042e-05\n",
      "Epoch: 953 Iteration: 89600. Train_MSE: 0.002205610740929842. Test_MSE: 6.480596669442244e-05\n",
      "Epoch: 955 Iteration: 89800. Train_MSE: 0.0004172501794528216. Test_MSE: 6.362152402972674e-05\n",
      "Epoch: 957 Iteration: 90000. Train_MSE: 9.658379713073373e-05. Test_MSE: 6.402168324295919e-05\n",
      "Epoch: 959 Iteration: 90200. Train_MSE: 6.90248270984739e-05. Test_MSE: 6.325713375152946e-05\n",
      "Epoch: 961 Iteration: 90400. Train_MSE: 0.0010142530081793666. Test_MSE: 6.439214277277174e-05\n",
      "Epoch: 963 Iteration: 90600. Train_MSE: 0.0002744617813732475. Test_MSE: 6.372090923485998e-05\n",
      "Epoch: 965 Iteration: 90800. Train_MSE: 8.647660433780402e-05. Test_MSE: 6.375902353097157e-05\n",
      "Epoch: 968 Iteration: 91000. Train_MSE: 0.00043291383190080523. Test_MSE: 6.330845206556173e-05\n",
      "Epoch: 970 Iteration: 91200. Train_MSE: 0.0006285274284891784. Test_MSE: 6.402372289898204e-05\n",
      "Epoch: 972 Iteration: 91400. Train_MSE: 0.00043133486178703606. Test_MSE: 6.287027013555471e-05\n",
      "Epoch: 974 Iteration: 91600. Train_MSE: 0.00013136003690306097. Test_MSE: 6.310157812952652e-05\n",
      "Epoch: 976 Iteration: 91800. Train_MSE: 0.00014898303197696805. Test_MSE: 6.266833861448326e-05\n",
      "Epoch: 978 Iteration: 92000. Train_MSE: 0.0006502568139694631. Test_MSE: 6.380752862441973e-05\n",
      "Epoch: 980 Iteration: 92200. Train_MSE: 0.0005551964277401567. Test_MSE: 6.287340998669053e-05\n",
      "Epoch: 982 Iteration: 92400. Train_MSE: 0.00012467947090044618. Test_MSE: 6.288924694266163e-05\n",
      "Epoch: 985 Iteration: 92600. Train_MSE: 0.00013835242134518921. Test_MSE: 6.279618688804047e-05\n",
      "Epoch: 987 Iteration: 92800. Train_MSE: 0.0005650866660289466. Test_MSE: 6.309656214188143e-05\n",
      "Epoch: 989 Iteration: 93000. Train_MSE: 0.002893655328080058. Test_MSE: 6.234450446137347e-05\n",
      "Epoch: 991 Iteration: 93200. Train_MSE: 8.50619180710055e-05. Test_MSE: 6.216475199751856e-05\n",
      "Epoch: 993 Iteration: 93400. Train_MSE: 0.0001958521461347118. Test_MSE: 6.223693186926204e-05\n",
      "Epoch: 995 Iteration: 93600. Train_MSE: 0.0004630893236026168. Test_MSE: 6.311600483685555e-05\n",
      "Epoch: 997 Iteration: 93800. Train_MSE: 0.005597808863967657. Test_MSE: 6.244336791915352e-05\n"
     ]
    }
   ],
   "source": [
    "# Training the model\n",
    "seq_dim = 1\n",
    "\n",
    "n_iter =0\n",
    "num_samples = len(X_train)\n",
    "test_samples = len(X_test)\n",
    "batch_size = 100\n",
    "num_epochs = 1000\n",
    "feat_dim = X_train.shape[1]\n",
    "\n",
    "X_train = X_train.type(torch.FloatTensor)\n",
    "y_train = y_train.type(torch.FloatTensor)\n",
    "X_test = X_test.type(torch.FloatTensor)\n",
    "y_test = y_test.type(torch.FloatTensor)\n",
    "\n",
    "for epoch in range(num_epochs):\n",
    "    for i in range(0, int(num_samples/batch_size -1)):\n",
    "        \n",
    "        \n",
    "        features = Variable(X_train[i*batch_size:(i+1)*batch_size, :]).view(-1, seq_dim, feat_dim)\n",
    "        Kt_value = Variable(y_train[i*batch_size:(i+1)*batch_size])\n",
    "        \n",
    "        #print(\"Kt_value={}\".format(Kt_value))\n",
    "        \n",
    "        optimizer.zero_grad()\n",
    "        \n",
    "        outputs = model(features)\n",
    "        #print(\"outputs ={}\".format(outputs))\n",
    "        \n",
    "        loss = criterion(outputs, Kt_value)\n",
    "        \n",
    "        train_loss.append(loss.data[0])\n",
    "        train_iter.append(n_iter)\n",
    "\n",
    "        #print(\"loss = {}\".format(loss))\n",
    "        loss.backward()\n",
    "        \n",
    "        optimizer.step()\n",
    "        \n",
    "         \n",
    "            \n",
    "        if n_iter%200 == 0:\n",
    "            for i in range(0,int(test_samples/batch_size -1)):\n",
    "                features = Variable(X_test[i*batch_size:(i+1)*batch_size, :]).view(-1, seq_dim, feat_dim)\n",
    "                Kt_test = Variable(y_test[i*batch_size:(i+1)*batch_size])\n",
    "                \n",
    "                outputs = model(features)\n",
    "                \n",
    "                mse = np.sqrt(np.mean((Kt_test.data.numpy() - outputs.data.numpy().squeeze())**2)/num_samples)\n",
    "                \n",
    "                test_iter.append(n_iter)\n",
    "                test_loss.append(mse)\n",
    "                \n",
    "            print('Epoch: {} Iteration: {}. Train_MSE: {}. Test_MSE: {}'.format(epoch, n_iter, loss.data[0], mse))\n",
    "        \n",
    "        n_iter += 1 \n",
    "               "
   ]
  },
  {
   "cell_type": "code",
   "execution_count": 78,
   "metadata": {},
   "outputs": [
    {
     "name": "stdout",
     "output_type": "stream",
     "text": [
      "16920\n"
     ]
    },
    {
     "data": {
      "text/plain": [
       "[<matplotlib.lines.Line2D at 0x105380f0>]"
      ]
     },
     "execution_count": 78,
     "metadata": {},
     "output_type": "execute_result"
    },
    {
     "data": {
      "image/png": "[encoded data removed]",
      "text/plain": [
       "<Figure size 432x288 with 1 Axes>"
      ]
     },
     "metadata": {},
     "output_type": "display_data"
    }
   ],
   "source": [
    "print(len(test_loss))\n",
    "#plt.plot(test_loss)\n",
    "plt.plot(train_loss,'-')\n",
    "#plt.ylim([0.000,0.99])\n"
   ]
  },
  {
   "cell_type": "code",
   "execution_count": 79,
   "metadata": {},
   "outputs": [
    {
     "data": {
      "text/plain": [
       "[<matplotlib.lines.Line2D at 0xc6f1e80>]"
      ]
     },
     "execution_count": 79,
     "metadata": {},
     "output_type": "execute_result"
    },
    {
     "data": {
      "image/png": "[encoded data removed]",
      "text/plain": [
       "<Figure size 432x288 with 1 Axes>"
      ]
     },
     "metadata": {},
     "output_type": "display_data"
    }
   ],
   "source": [
    "plt.plot(test_loss,'r')"
   ]
  },
  {
   "cell_type": "markdown",
   "metadata": {
    "collapsed": true
   },
   "source": [
    "#### Demornamization"
   ]
  },
  {
   "cell_type": "code",
   "execution_count": 80,
   "metadata": {},
   "outputs": [],
   "source": [
    "rmse = np.sqrt(mse)"
   ]
  },
  {
   "cell_type": "code",
   "execution_count": 81,
   "metadata": {},
   "outputs": [],
   "source": [
    "rmse_denorm = (rmse * (df_new_test['Kt'].max() - df_new_test['Kt'].min()))+ df_new_test['Kt'].mean()"
   ]
  },
  {
   "cell_type": "code",
   "execution_count": 82,
   "metadata": {},
   "outputs": [
    {
     "data": {
      "text/plain": [
       "15.511630778100766"
      ]
     },
     "execution_count": 82,
     "metadata": {},
     "output_type": "execute_result"
    }
   ],
   "source": [
    "rmse_denorm"
   ]
  },
  {
   "cell_type": "code",
   "execution_count": 83,
   "metadata": {},
   "outputs": [
    {
     "data": {
      "text/plain": [
       "count    3640.000000\n",
       "mean        6.453855\n",
       "std        31.975002\n",
       "min        -0.016932\n",
       "25%        -0.004854\n",
       "50%         0.278801\n",
       "75%         1.485559\n",
       "max      1146.230573\n",
       "Name: Kt, dtype: float64"
      ]
     },
     "execution_count": 83,
     "metadata": {},
     "output_type": "execute_result"
    }
   ],
   "source": [
    "df_new_test['Kt'].describe()"
   ]
  },
  {
   "cell_type": "markdown",
   "metadata": {
    "collapsed": true
   },
   "source": [
    "### Saving train and test losses to a csv"
   ]
  },
  {
   "cell_type": "code",
   "execution_count": 84,
   "metadata": {},
   "outputs": [],
   "source": [
    "df_trainLoss = pd.DataFrame(data={'Train Loss':train_loss, 'iteration':train_iter}, columns=['Train Loss','iteration'])\n",
    "df_trainLoss.to_csv('RNN Paper Results/Exp1_Bondville_TrainLoss.csv')\n",
    "df_testLoss = pd.DataFrame(data={'Test Loss':test_loss,'iteration':test_iter}, columns=['Test Loss','iteration'])\n",
    "df_testLoss.to_csv('RNN Paper Results/Exp1_Bondville_TestLoss.csv')"
   ]
  },
  {
   "cell_type": "code",
   "execution_count": null,
   "metadata": {},
   "outputs": [],
   "source": []
  }
 ],
 "metadata": {
  "anaconda-cloud": {},
  "kernelspec": {
   "display_name": "Python 3",
   "language": "python",
   "name": "python3"
  },
  "language_info": {
   "codemirror_mode": {
    "name": "ipython",
    "version": 3
   },
   "file_extension": ".py",
   "mimetype": "text/x-python",
   "name": "python",
   "nbconvert_exporter": "python",
   "pygments_lexer": "ipython3",
   "version": "3.6.1"
  }
 },
 "nbformat": 4,
 "nbformat_minor": 2
}
